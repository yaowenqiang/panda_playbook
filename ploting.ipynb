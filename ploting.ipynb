{
 "cells": [
  {
   "cell_type": "markdown",
   "metadata": {},
   "source": [
    "Ploting libraries for python\n",
    "\n",
    "+ Bokeh Plots\n",
    "+ "
   ]
  },
  {
   "cell_type": "markdown",
   "metadata": {},
   "source": [
    "```python\n",
    "p = figure()\n",
    "p.line(x=[2,3,4], y=[5,5.5, 7], line_width=4)\n",
    "p.circle(x=[2,3,4], y = [5,5.5,7], size=[20,30,40])\n",
    "```"
   ]
  },
  {
   "cell_type": "markdown",
   "metadata": {},
   "source": [
    "```python\n",
    "source = ColumnDataSource(df)\n",
    "p = figure()\n",
    "p.circle(x='grade', y='years', size='salary', source=source)\n",
    "hover = HoverTool(tooltips=[('id', '@id')])\n",
    "p.add_tools(hover)\n",
    "\n",
    "```"
   ]
  }
 ],
 "metadata": {
  "language_info": {
   "name": "python"
  }
 },
 "nbformat": 4,
 "nbformat_minor": 2
}
