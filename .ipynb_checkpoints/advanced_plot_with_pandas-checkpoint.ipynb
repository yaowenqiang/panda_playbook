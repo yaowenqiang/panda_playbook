{
 "cells": [
  {
   "cell_type": "code",
   "execution_count": 1,
   "metadata": {
    "tags": []
   },
   "outputs": [
    {
     "name": "stderr",
     "output_type": "stream",
     "text": [
      "/Users/yaojack/anaconda3/envs/ml/lib/python3.8/site-packages/pandas/core/computation/expressions.py:20: UserWarning: Pandas requires version '2.7.3' or newer of 'numexpr' (version '2.7.1' currently installed).\n",
      "  from pandas.core.computation.check import NUMEXPR_INSTALLED\n"
     ]
    }
   ],
   "source": [
    "# %matplotlib notebook\n",
    "%matplotlib inline\n",
    "import pandas as pd\n",
    "import matplotlib.pyplot as plt\n",
    "import numpy as np"
   ]
  },
  {
   "cell_type": "code",
   "execution_count": 3,
   "metadata": {
    "tags": []
   },
   "outputs": [
    {
     "data": {
      "text/html": [
       "<div>\n",
       "<style scoped>\n",
       "    .dataframe tbody tr th:only-of-type {\n",
       "        vertical-align: middle;\n",
       "    }\n",
       "\n",
       "    .dataframe tbody tr th {\n",
       "        vertical-align: top;\n",
       "    }\n",
       "\n",
       "    .dataframe thead th {\n",
       "        text-align: right;\n",
       "    }\n",
       "</style>\n",
       "<table border=\"1\" class=\"dataframe\">\n",
       "  <thead>\n",
       "    <tr style=\"text-align: right;\">\n",
       "      <th></th>\n",
       "      <th>MONTH</th>\n",
       "      <th>DAY</th>\n",
       "      <th>TIME</th>\n",
       "      <th>TEMP</th>\n",
       "      <th>PRESSURE</th>\n",
       "    </tr>\n",
       "  </thead>\n",
       "  <tbody>\n",
       "    <tr>\n",
       "      <th>0</th>\n",
       "      <td>1</td>\n",
       "      <td>1</td>\n",
       "      <td>1</td>\n",
       "      <td>6.8</td>\n",
       "      <td>10207</td>\n",
       "    </tr>\n",
       "    <tr>\n",
       "      <th>1</th>\n",
       "      <td>1</td>\n",
       "      <td>1</td>\n",
       "      <td>2</td>\n",
       "      <td>5.8</td>\n",
       "      <td>10214</td>\n",
       "    </tr>\n",
       "    <tr>\n",
       "      <th>2</th>\n",
       "      <td>1</td>\n",
       "      <td>1</td>\n",
       "      <td>3</td>\n",
       "      <td>5.7</td>\n",
       "      <td>10220</td>\n",
       "    </tr>\n",
       "    <tr>\n",
       "      <th>3</th>\n",
       "      <td>1</td>\n",
       "      <td>1</td>\n",
       "      <td>4</td>\n",
       "      <td>6.0</td>\n",
       "      <td>10225</td>\n",
       "    </tr>\n",
       "    <tr>\n",
       "      <th>4</th>\n",
       "      <td>1</td>\n",
       "      <td>1</td>\n",
       "      <td>5</td>\n",
       "      <td>4.5</td>\n",
       "      <td>10230</td>\n",
       "    </tr>\n",
       "  </tbody>\n",
       "</table>\n",
       "</div>"
      ],
      "text/plain": [
       "   MONTH  DAY  TIME  TEMP  PRESSURE\n",
       "0      1    1     1   6.8     10207\n",
       "1      1    1     2   5.8     10214\n",
       "2      1    1     3   5.7     10220\n",
       "3      1    1     4   6.0     10225\n",
       "4      1    1     5   4.5     10230"
      ]
     },
     "execution_count": 3,
     "metadata": {},
     "output_type": "execute_result"
    }
   ],
   "source": [
    "df = pd.read_csv('./data/advanced/weather.csv')\n",
    "df.head()"
   ]
  },
  {
   "cell_type": "code",
   "execution_count": 2,
   "metadata": {
    "tags": []
   },
   "outputs": [
    {
     "name": "stdout",
     "output_type": "stream",
     "text": [
      "Looking in indexes: https://pypi.tuna.tsinghua.edu.cn/simple\n",
      "Requirement already up-to-date: pandas in /Users/yaojack/anaconda3/envs/ml/lib/python3.8/site-packages (2.0.3)\n",
      "Requirement already satisfied, skipping upgrade: numpy>=1.20.3; python_version < \"3.10\" in /Users/yaojack/anaconda3/envs/ml/lib/python3.8/site-packages (from pandas) (1.24.4)\n",
      "Requirement already satisfied, skipping upgrade: python-dateutil>=2.8.2 in /Users/yaojack/anaconda3/envs/ml/lib/python3.8/site-packages (from pandas) (2.9.0.post0)\n",
      "Requirement already satisfied, skipping upgrade: tzdata>=2022.1 in /Users/yaojack/anaconda3/envs/ml/lib/python3.8/site-packages (from pandas) (2024.1)\n",
      "Requirement already satisfied, skipping upgrade: pytz>=2020.1 in /Users/yaojack/anaconda3/envs/ml/lib/python3.8/site-packages (from pandas) (2020.1)\n",
      "Requirement already satisfied, skipping upgrade: six>=1.5 in /Users/yaojack/anaconda3/envs/ml/lib/python3.8/site-packages (from python-dateutil>=2.8.2->pandas) (1.15.0)\n",
      "Note: you may need to restart the kernel to use updated packages.\n"
     ]
    }
   ],
   "source": [
    "%pip install -U pandas"
   ]
  },
  {
   "cell_type": "code",
   "execution_count": null,
   "metadata": {},
   "outputs": [],
   "source": []
  },
  {
   "cell_type": "code",
   "execution_count": 3,
   "metadata": {},
   "outputs": [
    {
     "data": {
      "text/html": [
       "<div>\n",
       "<style scoped>\n",
       "    .dataframe tbody tr th:only-of-type {\n",
       "        vertical-align: middle;\n",
       "    }\n",
       "\n",
       "    .dataframe tbody tr th {\n",
       "        vertical-align: top;\n",
       "    }\n",
       "\n",
       "    .dataframe thead tr th {\n",
       "        text-align: left;\n",
       "    }\n",
       "\n",
       "    .dataframe thead tr:last-of-type th {\n",
       "        text-align: right;\n",
       "    }\n",
       "</style>\n",
       "<table border=\"1\" class=\"dataframe\">\n",
       "  <thead>\n",
       "    <tr>\n",
       "      <th></th>\n",
       "      <th colspan=\"2\" halign=\"left\">TEMP</th>\n",
       "      <th colspan=\"2\" halign=\"left\">PRESSURE</th>\n",
       "    </tr>\n",
       "    <tr>\n",
       "      <th>MONTH</th>\n",
       "      <th>1</th>\n",
       "      <th>7</th>\n",
       "      <th>1</th>\n",
       "      <th>7</th>\n",
       "    </tr>\n",
       "    <tr>\n",
       "      <th>TIME</th>\n",
       "      <th></th>\n",
       "      <th></th>\n",
       "      <th></th>\n",
       "      <th></th>\n",
       "    </tr>\n",
       "  </thead>\n",
       "  <tbody>\n",
       "    <tr>\n",
       "      <th>1</th>\n",
       "      <td>6.8</td>\n",
       "      <td>16.3</td>\n",
       "      <td>10207</td>\n",
       "      <td>10100</td>\n",
       "    </tr>\n",
       "    <tr>\n",
       "      <th>2</th>\n",
       "      <td>5.8</td>\n",
       "      <td>16.5</td>\n",
       "      <td>10214</td>\n",
       "      <td>10099</td>\n",
       "    </tr>\n",
       "    <tr>\n",
       "      <th>3</th>\n",
       "      <td>5.7</td>\n",
       "      <td>16.3</td>\n",
       "      <td>10220</td>\n",
       "      <td>10098</td>\n",
       "    </tr>\n",
       "    <tr>\n",
       "      <th>4</th>\n",
       "      <td>6.0</td>\n",
       "      <td>16.5</td>\n",
       "      <td>10225</td>\n",
       "      <td>10096</td>\n",
       "    </tr>\n",
       "    <tr>\n",
       "      <th>5</th>\n",
       "      <td>4.5</td>\n",
       "      <td>16.7</td>\n",
       "      <td>10230</td>\n",
       "      <td>10098</td>\n",
       "    </tr>\n",
       "  </tbody>\n",
       "</table>\n",
       "</div>"
      ],
      "text/plain": [
       "      TEMP       PRESSURE       \n",
       "MONTH    1     7        1      7\n",
       "TIME                            \n",
       "1      6.8  16.3    10207  10100\n",
       "2      5.8  16.5    10214  10099\n",
       "3      5.7  16.3    10220  10098\n",
       "4      6.0  16.5    10225  10096\n",
       "5      4.5  16.7    10230  10098"
      ]
     },
     "execution_count": 3,
     "metadata": {},
     "output_type": "execute_result"
    }
   ],
   "source": [
    "days = df[df['MONTH'].isin([1,7]) & (df['DAY'] == 1)].drop(columns=['DAY'])\n",
    "days = days.pivot(columns='MONTH', index='TIME')\n",
    "days.head()"
   ]
  },
  {
   "cell_type": "code",
   "execution_count": 4,
   "metadata": {},
   "outputs": [
    {
     "data": {
      "text/plain": [
       "array([[<Axes: >, <Axes: >],\n",
       "       [<Axes: >, <Axes: >]], dtype=object)"
      ]
     },
     "execution_count": 4,
     "metadata": {},
     "output_type": "execute_result"
    },
    {
     "data": {
      "image/png": "[encoded data removed]",
      "text/plain": [
       "<Figure size 432x288 with 4 Axes>"
      ]
     },
     "metadata": {
      "needs_background": "light"
     },
     "output_type": "display_data"
    }
   ],
   "source": [
    "fig, ax = plt.subplots(2,2,sharex='col', sharey='row')\n",
    "ax\n",
    "# ax = days.plot(subplots=True, layout=(2,2), sharey=True)"
   ]
  },
  {
   "cell_type": "code",
   "execution_count": 25,
   "metadata": {},
   "outputs": [
    {
     "data": {
      "image/png": "[encoded data removed]",
      "text/plain": [
       "<Figure size 432x288 with 4 Axes>"
      ]
     },
     "metadata": {
      "needs_background": "light"
     },
     "output_type": "display_data"
    }
   ],
   "source": [
    "\n",
    "fig, ax = plt.subplots(2,2,sharex='col', sharey='row')\n",
    "days['TEMP'].plot(subplots=True, ax=ax[0],legend=False)\n",
    "days['PRESSURE'].plot(subplots=True, ax=ax[1],legend=False);\n",
    "ax[0][0].set_ylabel('Temperature')\n",
    "ax[0][0].set_title('January')\n",
    "ax[0][1].set_title('July')\n",
    "ax[1][0].set_ylabel('Pressure')\n",
    "ax[1][0].set_xlabel('Time')\n",
    "ax[1][1].set_xlabel('Time')\n",
    "fig.tight_layout()\n",
    "\n",
    "# days['TEMP'].plot(ax=ax[0])"
   ]
  },
  {
   "cell_type": "code",
   "execution_count": 15,
   "metadata": {},
   "outputs": [
    {
     "data": {
      "text/plain": [
       "array([<Axes: xlabel='TIME'>, <Axes: xlabel='TIME'>], dtype=object)"
      ]
     },
     "execution_count": 15,
     "metadata": {},
     "output_type": "execute_result"
    }
   ],
   "source": [
    "jax[0]"
   ]
  },
  {
   "cell_type": "code",
   "execution_count": 7,
   "metadata": {},
   "outputs": [
    {
     "name": "stdout",
     "output_type": "stream",
     "text": [
      "Looking in indexes: https://pypi.tuna.tsinghua.edu.cn/simple\n",
      "Requirement already up-to-date: matplotlib in /Users/yaojack/anaconda3/envs/ml/lib/python3.8/site-packages (3.7.5)\n",
      "Requirement already satisfied, skipping upgrade: numpy<2,>=1.20 in /Users/yaojack/anaconda3/envs/ml/lib/python3.8/site-packages (from matplotlib) (1.24.4)\n",
      "Requirement already satisfied, skipping upgrade: packaging>=20.0 in /Users/yaojack/anaconda3/envs/ml/lib/python3.8/site-packages (from matplotlib) (24.0)\n",
      "Requirement already satisfied, skipping upgrade: importlib-resources>=3.2.0; python_version < \"3.10\" in /Users/yaojack/anaconda3/envs/ml/lib/python3.8/site-packages (from matplotlib) (6.4.0)\n",
      "Requirement already satisfied, skipping upgrade: pyparsing>=2.3.1 in /Users/yaojack/anaconda3/envs/ml/lib/python3.8/site-packages (from matplotlib) (2.4.7)\n",
      "Requirement already satisfied, skipping upgrade: fonttools>=4.22.0 in /Users/yaojack/anaconda3/envs/ml/lib/python3.8/site-packages (from matplotlib) (4.53.1)\n",
      "Requirement already satisfied, skipping upgrade: kiwisolver>=1.0.1 in /Users/yaojack/anaconda3/envs/ml/lib/python3.8/site-packages (from matplotlib) (1.3.0)\n",
      "Requirement already satisfied, skipping upgrade: pillow>=6.2.0 in /Users/yaojack/anaconda3/envs/ml/lib/python3.8/site-packages (from matplotlib) (8.0.1)\n",
      "Requirement already satisfied, skipping upgrade: python-dateutil>=2.7 in /Users/yaojack/anaconda3/envs/ml/lib/python3.8/site-packages (from matplotlib) (2.9.0.post0)\n",
      "Requirement already satisfied, skipping upgrade: contourpy>=1.0.1 in /Users/yaojack/anaconda3/envs/ml/lib/python3.8/site-packages (from matplotlib) (1.1.1)\n",
      "Requirement already satisfied, skipping upgrade: cycler>=0.10 in /Users/yaojack/anaconda3/envs/ml/lib/python3.8/site-packages (from matplotlib) (0.10.0)\n",
      "Requirement already satisfied, skipping upgrade: zipp>=3.1.0; python_version < \"3.10\" in /Users/yaojack/anaconda3/envs/ml/lib/python3.8/site-packages (from importlib-resources>=3.2.0; python_version < \"3.10\"->matplotlib) (3.4.0)\n",
      "Requirement already satisfied, skipping upgrade: six>=1.5 in /Users/yaojack/anaconda3/envs/ml/lib/python3.8/site-packages (from python-dateutil>=2.7->matplotlib) (1.15.0)\n",
      "Note: you may need to restart the kernel to use updated packages.\n"
     ]
    }
   ],
   "source": [
    "%pip install --upgrade matplotlib"
   ]
  },
  {
   "cell_type": "code",
   "execution_count": 16,
   "metadata": {},
   "outputs": [
    {
     "data": {
      "image/png": "[encoded data removed]",
      "text/plain": [
       "<Figure size 432x288 with 4 Axes>"
      ]
     },
     "metadata": {
      "needs_background": "light"
     },
     "output_type": "display_data"
    }
   ],
   "source": [
    "ax = days.plot(subplots=True, layout=(2,2), sharey=True)\n",
    "# days.plot(sharey=True, layout=(2,2))\n"
   ]
  },
  {
   "cell_type": "code",
   "execution_count": 9,
   "metadata": {},
   "outputs": [
    {
     "data": {
      "text/plain": [
       "'/Users/yaojack/anaconda3/envs/ml/bin/python'"
      ]
     },
     "execution_count": 9,
     "metadata": {},
     "output_type": "execute_result"
    }
   ],
   "source": [
    "import sys\n",
    "sys.executable"
   ]
  },
  {
   "cell_type": "code",
   "execution_count": 10,
   "metadata": {},
   "outputs": [],
   "source": [
    "import matplotlib"
   ]
  },
  {
   "cell_type": "code",
   "execution_count": 11,
   "metadata": {},
   "outputs": [
    {
     "data": {
      "text/plain": [
       "'3.7.5'"
      ]
     },
     "execution_count": 11,
     "metadata": {},
     "output_type": "execute_result"
    }
   ],
   "source": [
    "matplotlib._version.version"
   ]
  },
  {
   "cell_type": "code",
   "execution_count": 26,
   "metadata": {},
   "outputs": [
    {
     "name": "stdout",
     "output_type": "stream",
     "text": [
      "<class 'pandas.core.frame.DataFrame'>\n",
      "RangeIndex: 50 entries, 0 to 49\n",
      "Data columns (total 3 columns):\n",
      " #   Column   Non-Null Count  Dtype         \n",
      "---  ------   --------------  -----         \n",
      " 0   Date     50 non-null     datetime64[ns]\n",
      " 1   Amount   50 non-null     int64         \n",
      " 2   Product  50 non-null     object        \n",
      "dtypes: datetime64[ns](1), int64(1), object(1)\n",
      "memory usage: 1.3+ KB\n"
     ]
    }
   ],
   "source": [
    "df = pd.read_csv('./data/advanced/sales.csv', parse_dates=['Date'])\n",
    "df.info()"
   ]
  },
  {
   "cell_type": "code",
   "execution_count": 27,
   "metadata": {},
   "outputs": [
    {
     "data": {
      "text/html": [
       "<div>\n",
       "<style scoped>\n",
       "    .dataframe tbody tr th:only-of-type {\n",
       "        vertical-align: middle;\n",
       "    }\n",
       "\n",
       "    .dataframe tbody tr th {\n",
       "        vertical-align: top;\n",
       "    }\n",
       "\n",
       "    .dataframe thead th {\n",
       "        text-align: right;\n",
       "    }\n",
       "</style>\n",
       "<table border=\"1\" class=\"dataframe\">\n",
       "  <thead>\n",
       "    <tr style=\"text-align: right;\">\n",
       "      <th></th>\n",
       "      <th>Date</th>\n",
       "      <th>Amount</th>\n",
       "      <th>Product</th>\n",
       "    </tr>\n",
       "  </thead>\n",
       "  <tbody>\n",
       "    <tr>\n",
       "      <th>0</th>\n",
       "      <td>2017-01-20</td>\n",
       "      <td>5411</td>\n",
       "      <td>b</td>\n",
       "    </tr>\n",
       "    <tr>\n",
       "      <th>1</th>\n",
       "      <td>2017-02-22</td>\n",
       "      <td>5000</td>\n",
       "      <td>c</td>\n",
       "    </tr>\n",
       "    <tr>\n",
       "      <th>2</th>\n",
       "      <td>2017-03-01</td>\n",
       "      <td>7260</td>\n",
       "      <td>a</td>\n",
       "    </tr>\n",
       "    <tr>\n",
       "      <th>3</th>\n",
       "      <td>2017-03-14</td>\n",
       "      <td>2117</td>\n",
       "      <td>c</td>\n",
       "    </tr>\n",
       "    <tr>\n",
       "      <th>4</th>\n",
       "      <td>2017-04-15</td>\n",
       "      <td>7516</td>\n",
       "      <td>b</td>\n",
       "    </tr>\n",
       "  </tbody>\n",
       "</table>\n",
       "</div>"
      ],
      "text/plain": [
       "        Date  Amount Product\n",
       "0 2017-01-20    5411       b\n",
       "1 2017-02-22    5000       c\n",
       "2 2017-03-01    7260       a\n",
       "3 2017-03-14    2117       c\n",
       "4 2017-04-15    7516       b"
      ]
     },
     "execution_count": 27,
     "metadata": {},
     "output_type": "execute_result"
    }
   ],
   "source": [
    "df.head()"
   ]
  },
  {
   "cell_type": "code",
   "execution_count": 28,
   "metadata": {},
   "outputs": [
    {
     "data": {
      "text/plain": [
       "0      1\n",
       "1      2\n",
       "2      3\n",
       "3      3\n",
       "4      4\n",
       "5      4\n",
       "6      5\n",
       "7      5\n",
       "8      5\n",
       "9      6\n",
       "10     6\n",
       "11     6\n",
       "12     6\n",
       "13     7\n",
       "14     7\n",
       "15    10\n",
       "16     7\n",
       "17     8\n",
       "18     8\n",
       "19    11\n",
       "20    11\n",
       "21     8\n",
       "22     8\n",
       "23    10\n",
       "24    12\n",
       "25    12\n",
       "26     1\n",
       "27     1\n",
       "28     1\n",
       "29     2\n",
       "30     2\n",
       "31     4\n",
       "32     4\n",
       "33     4\n",
       "34     4\n",
       "35     4\n",
       "36     5\n",
       "37     5\n",
       "38     5\n",
       "39     6\n",
       "40     7\n",
       "41    10\n",
       "42     7\n",
       "43     8\n",
       "44     9\n",
       "45    10\n",
       "46    10\n",
       "47    12\n",
       "48    11\n",
       "49    12\n",
       "Name: Date, dtype: int32"
      ]
     },
     "execution_count": 28,
     "metadata": {},
     "output_type": "execute_result"
    }
   ],
   "source": [
    "df['Date'].dt.month"
   ]
  },
  {
   "cell_type": "code",
   "execution_count": 29,
   "metadata": {},
   "outputs": [
    {
     "data": {
      "text/html": [
       "<div>\n",
       "<style scoped>\n",
       "    .dataframe tbody tr th:only-of-type {\n",
       "        vertical-align: middle;\n",
       "    }\n",
       "\n",
       "    .dataframe tbody tr th {\n",
       "        vertical-align: top;\n",
       "    }\n",
       "\n",
       "    .dataframe thead th {\n",
       "        text-align: right;\n",
       "    }\n",
       "</style>\n",
       "<table border=\"1\" class=\"dataframe\">\n",
       "  <thead>\n",
       "    <tr style=\"text-align: right;\">\n",
       "      <th></th>\n",
       "      <th>Date</th>\n",
       "      <th>Amount</th>\n",
       "      <th>Product</th>\n",
       "      <th>Month</th>\n",
       "    </tr>\n",
       "  </thead>\n",
       "  <tbody>\n",
       "    <tr>\n",
       "      <th>0</th>\n",
       "      <td>2017-01-20</td>\n",
       "      <td>5411</td>\n",
       "      <td>b</td>\n",
       "      <td>1</td>\n",
       "    </tr>\n",
       "    <tr>\n",
       "      <th>1</th>\n",
       "      <td>2017-02-22</td>\n",
       "      <td>5000</td>\n",
       "      <td>c</td>\n",
       "      <td>2</td>\n",
       "    </tr>\n",
       "    <tr>\n",
       "      <th>2</th>\n",
       "      <td>2017-03-01</td>\n",
       "      <td>7260</td>\n",
       "      <td>a</td>\n",
       "      <td>3</td>\n",
       "    </tr>\n",
       "    <tr>\n",
       "      <th>3</th>\n",
       "      <td>2017-03-14</td>\n",
       "      <td>2117</td>\n",
       "      <td>c</td>\n",
       "      <td>3</td>\n",
       "    </tr>\n",
       "    <tr>\n",
       "      <th>4</th>\n",
       "      <td>2017-04-15</td>\n",
       "      <td>7516</td>\n",
       "      <td>b</td>\n",
       "      <td>4</td>\n",
       "    </tr>\n",
       "  </tbody>\n",
       "</table>\n",
       "</div>"
      ],
      "text/plain": [
       "        Date  Amount Product  Month\n",
       "0 2017-01-20    5411       b      1\n",
       "1 2017-02-22    5000       c      2\n",
       "2 2017-03-01    7260       a      3\n",
       "3 2017-03-14    2117       c      3\n",
       "4 2017-04-15    7516       b      4"
      ]
     },
     "execution_count": 29,
     "metadata": {},
     "output_type": "execute_result"
    }
   ],
   "source": [
    "df['Month'] = df['Date'].dt.month\n",
    "df.head()"
   ]
  },
  {
   "cell_type": "code",
   "execution_count": 34,
   "metadata": {},
   "outputs": [],
   "source": [
    "g = df.groupby(['Month','Product'])['Amount'].sum()"
   ]
  },
  {
   "cell_type": "code",
   "execution_count": 35,
   "metadata": {},
   "outputs": [
    {
     "data": {
      "text/plain": [
       "Month  Product\n",
       "1      a           7260\n",
       "       b           9258\n",
       "       c           1740\n",
       "2      a           6534\n",
       "       c           5000\n",
       "3      a           7260\n",
       "       c           2117\n",
       "4      a          11616\n",
       "       b          13221\n",
       "       c           5440\n",
       "5      a           7119\n",
       "       c           2990\n",
       "6      a          11071\n",
       "       c           7176\n",
       "7      a           4200\n",
       "       b          15973\n",
       "       c           2901\n",
       "8      a          10342\n",
       "       c           6662\n",
       "9      c            660\n",
       "10     a           2100\n",
       "       b          10711\n",
       "       c          14520\n",
       "11     a           7260\n",
       "       c           3710\n",
       "12     a          11616\n",
       "       b          14800\n",
       "Name: Amount, dtype: int64"
      ]
     },
     "execution_count": 35,
     "metadata": {},
     "output_type": "execute_result"
    }
   ],
   "source": [
    "g"
   ]
  },
  {
   "cell_type": "code",
   "execution_count": 38,
   "metadata": {},
   "outputs": [
    {
     "data": {
      "text/html": [
       "<div>\n",
       "<style scoped>\n",
       "    .dataframe tbody tr th:only-of-type {\n",
       "        vertical-align: middle;\n",
       "    }\n",
       "\n",
       "    .dataframe tbody tr th {\n",
       "        vertical-align: top;\n",
       "    }\n",
       "\n",
       "    .dataframe thead th {\n",
       "        text-align: right;\n",
       "    }\n",
       "</style>\n",
       "<table border=\"1\" class=\"dataframe\">\n",
       "  <thead>\n",
       "    <tr style=\"text-align: right;\">\n",
       "      <th>Product</th>\n",
       "      <th>a</th>\n",
       "      <th>b</th>\n",
       "      <th>c</th>\n",
       "    </tr>\n",
       "    <tr>\n",
       "      <th>Month</th>\n",
       "      <th></th>\n",
       "      <th></th>\n",
       "      <th></th>\n",
       "    </tr>\n",
       "  </thead>\n",
       "  <tbody>\n",
       "    <tr>\n",
       "      <th>1</th>\n",
       "      <td>7260.0</td>\n",
       "      <td>9258.0</td>\n",
       "      <td>1740.0</td>\n",
       "    </tr>\n",
       "    <tr>\n",
       "      <th>2</th>\n",
       "      <td>13794.0</td>\n",
       "      <td>NaN</td>\n",
       "      <td>6740.0</td>\n",
       "    </tr>\n",
       "    <tr>\n",
       "      <th>3</th>\n",
       "      <td>21054.0</td>\n",
       "      <td>NaN</td>\n",
       "      <td>8857.0</td>\n",
       "    </tr>\n",
       "    <tr>\n",
       "      <th>4</th>\n",
       "      <td>32670.0</td>\n",
       "      <td>22479.0</td>\n",
       "      <td>14297.0</td>\n",
       "    </tr>\n",
       "    <tr>\n",
       "      <th>5</th>\n",
       "      <td>39789.0</td>\n",
       "      <td>NaN</td>\n",
       "      <td>17287.0</td>\n",
       "    </tr>\n",
       "    <tr>\n",
       "      <th>6</th>\n",
       "      <td>50860.0</td>\n",
       "      <td>NaN</td>\n",
       "      <td>24463.0</td>\n",
       "    </tr>\n",
       "    <tr>\n",
       "      <th>7</th>\n",
       "      <td>55060.0</td>\n",
       "      <td>38452.0</td>\n",
       "      <td>27364.0</td>\n",
       "    </tr>\n",
       "    <tr>\n",
       "      <th>8</th>\n",
       "      <td>65402.0</td>\n",
       "      <td>NaN</td>\n",
       "      <td>34026.0</td>\n",
       "    </tr>\n",
       "    <tr>\n",
       "      <th>9</th>\n",
       "      <td>NaN</td>\n",
       "      <td>NaN</td>\n",
       "      <td>34686.0</td>\n",
       "    </tr>\n",
       "    <tr>\n",
       "      <th>10</th>\n",
       "      <td>67502.0</td>\n",
       "      <td>49163.0</td>\n",
       "      <td>49206.0</td>\n",
       "    </tr>\n",
       "    <tr>\n",
       "      <th>11</th>\n",
       "      <td>74762.0</td>\n",
       "      <td>NaN</td>\n",
       "      <td>52916.0</td>\n",
       "    </tr>\n",
       "    <tr>\n",
       "      <th>12</th>\n",
       "      <td>86378.0</td>\n",
       "      <td>63963.0</td>\n",
       "      <td>NaN</td>\n",
       "    </tr>\n",
       "  </tbody>\n",
       "</table>\n",
       "</div>"
      ],
      "text/plain": [
       "Product        a        b        c\n",
       "Month                             \n",
       "1         7260.0   9258.0   1740.0\n",
       "2        13794.0      NaN   6740.0\n",
       "3        21054.0      NaN   8857.0\n",
       "4        32670.0  22479.0  14297.0\n",
       "5        39789.0      NaN  17287.0\n",
       "6        50860.0      NaN  24463.0\n",
       "7        55060.0  38452.0  27364.0\n",
       "8        65402.0      NaN  34026.0\n",
       "9            NaN      NaN  34686.0\n",
       "10       67502.0  49163.0  49206.0\n",
       "11       74762.0      NaN  52916.0\n",
       "12       86378.0  63963.0      NaN"
      ]
     },
     "execution_count": 38,
     "metadata": {},
     "output_type": "execute_result"
    }
   ],
   "source": [
    "g = g.unstack()\n",
    "revenue = g.cumsum()\n",
    "revenue"
   ]
  },
  {
   "cell_type": "code",
   "execution_count": 39,
   "metadata": {},
   "outputs": [
    {
     "data": {
      "text/html": [
       "<div>\n",
       "<style scoped>\n",
       "    .dataframe tbody tr th:only-of-type {\n",
       "        vertical-align: middle;\n",
       "    }\n",
       "\n",
       "    .dataframe tbody tr th {\n",
       "        vertical-align: top;\n",
       "    }\n",
       "\n",
       "    .dataframe thead th {\n",
       "        text-align: right;\n",
       "    }\n",
       "</style>\n",
       "<table border=\"1\" class=\"dataframe\">\n",
       "  <thead>\n",
       "    <tr style=\"text-align: right;\">\n",
       "      <th>Product</th>\n",
       "      <th>a</th>\n",
       "      <th>b</th>\n",
       "      <th>c</th>\n",
       "    </tr>\n",
       "    <tr>\n",
       "      <th>Month</th>\n",
       "      <th></th>\n",
       "      <th></th>\n",
       "      <th></th>\n",
       "    </tr>\n",
       "  </thead>\n",
       "  <tbody>\n",
       "    <tr>\n",
       "      <th>1</th>\n",
       "      <td>7260.0</td>\n",
       "      <td>9258.0</td>\n",
       "      <td>1740.0</td>\n",
       "    </tr>\n",
       "    <tr>\n",
       "      <th>2</th>\n",
       "      <td>6534.0</td>\n",
       "      <td>NaN</td>\n",
       "      <td>5000.0</td>\n",
       "    </tr>\n",
       "    <tr>\n",
       "      <th>3</th>\n",
       "      <td>7260.0</td>\n",
       "      <td>NaN</td>\n",
       "      <td>2117.0</td>\n",
       "    </tr>\n",
       "    <tr>\n",
       "      <th>4</th>\n",
       "      <td>11616.0</td>\n",
       "      <td>13221.0</td>\n",
       "      <td>5440.0</td>\n",
       "    </tr>\n",
       "    <tr>\n",
       "      <th>5</th>\n",
       "      <td>7119.0</td>\n",
       "      <td>NaN</td>\n",
       "      <td>2990.0</td>\n",
       "    </tr>\n",
       "    <tr>\n",
       "      <th>6</th>\n",
       "      <td>11071.0</td>\n",
       "      <td>NaN</td>\n",
       "      <td>7176.0</td>\n",
       "    </tr>\n",
       "    <tr>\n",
       "      <th>7</th>\n",
       "      <td>4200.0</td>\n",
       "      <td>15973.0</td>\n",
       "      <td>2901.0</td>\n",
       "    </tr>\n",
       "    <tr>\n",
       "      <th>8</th>\n",
       "      <td>10342.0</td>\n",
       "      <td>NaN</td>\n",
       "      <td>6662.0</td>\n",
       "    </tr>\n",
       "    <tr>\n",
       "      <th>9</th>\n",
       "      <td>NaN</td>\n",
       "      <td>NaN</td>\n",
       "      <td>660.0</td>\n",
       "    </tr>\n",
       "    <tr>\n",
       "      <th>10</th>\n",
       "      <td>2100.0</td>\n",
       "      <td>10711.0</td>\n",
       "      <td>14520.0</td>\n",
       "    </tr>\n",
       "    <tr>\n",
       "      <th>11</th>\n",
       "      <td>7260.0</td>\n",
       "      <td>NaN</td>\n",
       "      <td>3710.0</td>\n",
       "    </tr>\n",
       "    <tr>\n",
       "      <th>12</th>\n",
       "      <td>11616.0</td>\n",
       "      <td>14800.0</td>\n",
       "      <td>NaN</td>\n",
       "    </tr>\n",
       "  </tbody>\n",
       "</table>\n",
       "</div>"
      ],
      "text/plain": [
       "Product        a        b        c\n",
       "Month                             \n",
       "1         7260.0   9258.0   1740.0\n",
       "2         6534.0      NaN   5000.0\n",
       "3         7260.0      NaN   2117.0\n",
       "4        11616.0  13221.0   5440.0\n",
       "5         7119.0      NaN   2990.0\n",
       "6        11071.0      NaN   7176.0\n",
       "7         4200.0  15973.0   2901.0\n",
       "8        10342.0      NaN   6662.0\n",
       "9            NaN      NaN    660.0\n",
       "10        2100.0  10711.0  14520.0\n",
       "11        7260.0      NaN   3710.0\n",
       "12       11616.0  14800.0      NaN"
      ]
     },
     "execution_count": 39,
     "metadata": {},
     "output_type": "execute_result"
    }
   ],
   "source": [
    "g"
   ]
  },
  {
   "cell_type": "code",
   "execution_count": 40,
   "metadata": {},
   "outputs": [
    {
     "data": {
      "text/plain": [
       "Product\n",
       "a    86378.0\n",
       "b    63963.0\n",
       "c    52916.0\n",
       "dtype: float64"
      ]
     },
     "execution_count": 40,
     "metadata": {},
     "output_type": "execute_result"
    }
   ],
   "source": [
    "g.sum()"
   ]
  },
  {
   "cell_type": "code",
   "execution_count": 41,
   "metadata": {},
   "outputs": [
    {
     "data": {
      "text/html": [
       "<div>\n",
       "<style scoped>\n",
       "    .dataframe tbody tr th:only-of-type {\n",
       "        vertical-align: middle;\n",
       "    }\n",
       "\n",
       "    .dataframe tbody tr th {\n",
       "        vertical-align: top;\n",
       "    }\n",
       "\n",
       "    .dataframe thead th {\n",
       "        text-align: right;\n",
       "    }\n",
       "</style>\n",
       "<table border=\"1\" class=\"dataframe\">\n",
       "  <thead>\n",
       "    <tr style=\"text-align: right;\">\n",
       "      <th>Product</th>\n",
       "      <th>a</th>\n",
       "      <th>b</th>\n",
       "      <th>c</th>\n",
       "    </tr>\n",
       "    <tr>\n",
       "      <th>Month</th>\n",
       "      <th></th>\n",
       "      <th></th>\n",
       "      <th></th>\n",
       "    </tr>\n",
       "  </thead>\n",
       "  <tbody>\n",
       "    <tr>\n",
       "      <th>1</th>\n",
       "      <td>True</td>\n",
       "      <td>True</td>\n",
       "      <td>True</td>\n",
       "    </tr>\n",
       "    <tr>\n",
       "      <th>2</th>\n",
       "      <td>False</td>\n",
       "      <td>False</td>\n",
       "      <td>False</td>\n",
       "    </tr>\n",
       "    <tr>\n",
       "      <th>3</th>\n",
       "      <td>False</td>\n",
       "      <td>False</td>\n",
       "      <td>False</td>\n",
       "    </tr>\n",
       "    <tr>\n",
       "      <th>4</th>\n",
       "      <td>False</td>\n",
       "      <td>False</td>\n",
       "      <td>False</td>\n",
       "    </tr>\n",
       "    <tr>\n",
       "      <th>5</th>\n",
       "      <td>False</td>\n",
       "      <td>False</td>\n",
       "      <td>False</td>\n",
       "    </tr>\n",
       "    <tr>\n",
       "      <th>6</th>\n",
       "      <td>False</td>\n",
       "      <td>False</td>\n",
       "      <td>False</td>\n",
       "    </tr>\n",
       "    <tr>\n",
       "      <th>7</th>\n",
       "      <td>False</td>\n",
       "      <td>False</td>\n",
       "      <td>False</td>\n",
       "    </tr>\n",
       "    <tr>\n",
       "      <th>8</th>\n",
       "      <td>False</td>\n",
       "      <td>False</td>\n",
       "      <td>False</td>\n",
       "    </tr>\n",
       "    <tr>\n",
       "      <th>9</th>\n",
       "      <td>False</td>\n",
       "      <td>False</td>\n",
       "      <td>False</td>\n",
       "    </tr>\n",
       "    <tr>\n",
       "      <th>10</th>\n",
       "      <td>False</td>\n",
       "      <td>False</td>\n",
       "      <td>False</td>\n",
       "    </tr>\n",
       "    <tr>\n",
       "      <th>11</th>\n",
       "      <td>False</td>\n",
       "      <td>False</td>\n",
       "      <td>False</td>\n",
       "    </tr>\n",
       "    <tr>\n",
       "      <th>12</th>\n",
       "      <td>False</td>\n",
       "      <td>False</td>\n",
       "      <td>False</td>\n",
       "    </tr>\n",
       "  </tbody>\n",
       "</table>\n",
       "</div>"
      ],
      "text/plain": [
       "Product      a      b      c\n",
       "Month                       \n",
       "1         True   True   True\n",
       "2        False  False  False\n",
       "3        False  False  False\n",
       "4        False  False  False\n",
       "5        False  False  False\n",
       "6        False  False  False\n",
       "7        False  False  False\n",
       "8        False  False  False\n",
       "9        False  False  False\n",
       "10       False  False  False\n",
       "11       False  False  False\n",
       "12       False  False  False"
      ]
     },
     "execution_count": 41,
     "metadata": {},
     "output_type": "execute_result"
    }
   ],
   "source": [
    "g == revenue"
   ]
  },
  {
   "cell_type": "code",
   "execution_count": 43,
   "metadata": {},
   "outputs": [
    {
     "data": {
      "text/html": [
       "<div>\n",
       "<style scoped>\n",
       "    .dataframe tbody tr th:only-of-type {\n",
       "        vertical-align: middle;\n",
       "    }\n",
       "\n",
       "    .dataframe tbody tr th {\n",
       "        vertical-align: top;\n",
       "    }\n",
       "\n",
       "    .dataframe thead th {\n",
       "        text-align: right;\n",
       "    }\n",
       "</style>\n",
       "<table border=\"1\" class=\"dataframe\">\n",
       "  <thead>\n",
       "    <tr style=\"text-align: right;\">\n",
       "      <th>Product</th>\n",
       "      <th>a</th>\n",
       "      <th>b</th>\n",
       "      <th>c</th>\n",
       "    </tr>\n",
       "    <tr>\n",
       "      <th>Month</th>\n",
       "      <th></th>\n",
       "      <th></th>\n",
       "      <th></th>\n",
       "    </tr>\n",
       "  </thead>\n",
       "  <tbody>\n",
       "    <tr>\n",
       "      <th>1</th>\n",
       "      <td>7260.0</td>\n",
       "      <td>9258.0</td>\n",
       "      <td>1740.0</td>\n",
       "    </tr>\n",
       "    <tr>\n",
       "      <th>2</th>\n",
       "      <td>13794.0</td>\n",
       "      <td>9258.0</td>\n",
       "      <td>6740.0</td>\n",
       "    </tr>\n",
       "    <tr>\n",
       "      <th>3</th>\n",
       "      <td>21054.0</td>\n",
       "      <td>9258.0</td>\n",
       "      <td>8857.0</td>\n",
       "    </tr>\n",
       "    <tr>\n",
       "      <th>4</th>\n",
       "      <td>32670.0</td>\n",
       "      <td>22479.0</td>\n",
       "      <td>14297.0</td>\n",
       "    </tr>\n",
       "    <tr>\n",
       "      <th>5</th>\n",
       "      <td>39789.0</td>\n",
       "      <td>22479.0</td>\n",
       "      <td>17287.0</td>\n",
       "    </tr>\n",
       "    <tr>\n",
       "      <th>6</th>\n",
       "      <td>50860.0</td>\n",
       "      <td>22479.0</td>\n",
       "      <td>24463.0</td>\n",
       "    </tr>\n",
       "    <tr>\n",
       "      <th>7</th>\n",
       "      <td>55060.0</td>\n",
       "      <td>38452.0</td>\n",
       "      <td>27364.0</td>\n",
       "    </tr>\n",
       "    <tr>\n",
       "      <th>8</th>\n",
       "      <td>65402.0</td>\n",
       "      <td>38452.0</td>\n",
       "      <td>34026.0</td>\n",
       "    </tr>\n",
       "    <tr>\n",
       "      <th>9</th>\n",
       "      <td>65402.0</td>\n",
       "      <td>38452.0</td>\n",
       "      <td>34686.0</td>\n",
       "    </tr>\n",
       "    <tr>\n",
       "      <th>10</th>\n",
       "      <td>67502.0</td>\n",
       "      <td>49163.0</td>\n",
       "      <td>49206.0</td>\n",
       "    </tr>\n",
       "    <tr>\n",
       "      <th>11</th>\n",
       "      <td>74762.0</td>\n",
       "      <td>49163.0</td>\n",
       "      <td>52916.0</td>\n",
       "    </tr>\n",
       "    <tr>\n",
       "      <th>12</th>\n",
       "      <td>86378.0</td>\n",
       "      <td>63963.0</td>\n",
       "      <td>52916.0</td>\n",
       "    </tr>\n",
       "  </tbody>\n",
       "</table>\n",
       "</div>"
      ],
      "text/plain": [
       "Product        a        b        c\n",
       "Month                             \n",
       "1         7260.0   9258.0   1740.0\n",
       "2        13794.0   9258.0   6740.0\n",
       "3        21054.0   9258.0   8857.0\n",
       "4        32670.0  22479.0  14297.0\n",
       "5        39789.0  22479.0  17287.0\n",
       "6        50860.0  22479.0  24463.0\n",
       "7        55060.0  38452.0  27364.0\n",
       "8        65402.0  38452.0  34026.0\n",
       "9        65402.0  38452.0  34686.0\n",
       "10       67502.0  49163.0  49206.0\n",
       "11       74762.0  49163.0  52916.0\n",
       "12       86378.0  63963.0  52916.0"
      ]
     },
     "execution_count": 43,
     "metadata": {},
     "output_type": "execute_result"
    }
   ],
   "source": [
    "revenue = g.fillna(0).cumsum()\n",
    "revenue"
   ]
  },
  {
   "cell_type": "code",
   "execution_count": 45,
   "metadata": {},
   "outputs": [
    {
     "data": {
      "image/png": "[encoded data removed]",
      "text/plain": [
       "<Figure size 432x288 with 1 Axes>"
      ]
     },
     "metadata": {
      "needs_background": "light"
     },
     "output_type": "display_data"
    }
   ],
   "source": [
    "fig, ax = plt.subplots()\n",
    "revenue.plot.area(title='Revenue 2017 (EUR)', ax=ax)\n",
    "fig.tight_layout()"
   ]
  },
  {
   "cell_type": "code",
   "execution_count": 47,
   "metadata": {},
   "outputs": [
    {
     "data": {
      "image/png": "[encoded data removed]",
      "text/plain": [
       "<Figure size 432x288 with 1 Axes>"
      ]
     },
     "metadata": {
      "needs_background": "light"
     },
     "output_type": "display_data"
    }
   ],
   "source": [
    "fig, ax = plt.subplots()\n",
    "revenue.plot.area(title='Revenue 2017 (EUR)', ax=ax, stacked=False, grid=True)\n",
    "fig.tight_layout()"
   ]
  },
  {
   "cell_type": "code",
   "execution_count": 51,
   "metadata": {},
   "outputs": [
    {
     "data": {
      "image/png": "[encoded data removed]",
      "text/plain": [
       "<Figure size 432x288 with 1 Axes>"
      ]
     },
     "metadata": {
      "needs_background": "light"
     },
     "output_type": "display_data"
    }
   ],
   "source": [
    "fig, ax = plt.subplots()\n",
    "total_revenue = df.groupby('Month')['Amount'].sum().cumsum()\n",
    "total_revenue.plot(ax=ax, style='r--', legend=True, label=\"All\")\n",
    "revenue.plot.area(title='Revenue 2017 (EUR)', ax=ax, stacked=False, grid=True)\n",
    "fig.tight_layout()"
   ]
  },
  {
   "cell_type": "code",
   "execution_count": 52,
   "metadata": {},
   "outputs": [],
   "source": [
    "df = pd.read_csv('./data/advanced/athletes.csv')\n",
    "top = df.groupby('nationality')[['gold','silver','bronze']].sum().sort_values('gold', ascending=False).head(10)"
   ]
  },
  {
   "cell_type": "code",
   "execution_count": 53,
   "metadata": {},
   "outputs": [
    {
     "data": {
      "text/html": [
       "<div>\n",
       "<style scoped>\n",
       "    .dataframe tbody tr th:only-of-type {\n",
       "        vertical-align: middle;\n",
       "    }\n",
       "\n",
       "    .dataframe tbody tr th {\n",
       "        vertical-align: top;\n",
       "    }\n",
       "\n",
       "    .dataframe thead th {\n",
       "        text-align: right;\n",
       "    }\n",
       "</style>\n",
       "<table border=\"1\" class=\"dataframe\">\n",
       "  <thead>\n",
       "    <tr style=\"text-align: right;\">\n",
       "      <th></th>\n",
       "      <th>id</th>\n",
       "      <th>nationality</th>\n",
       "      <th>sex</th>\n",
       "      <th>date_of_birth</th>\n",
       "      <th>height</th>\n",
       "      <th>weight</th>\n",
       "      <th>sport</th>\n",
       "      <th>gold</th>\n",
       "      <th>silver</th>\n",
       "      <th>bronze</th>\n",
       "    </tr>\n",
       "  </thead>\n",
       "  <tbody>\n",
       "    <tr>\n",
       "      <th>0</th>\n",
       "      <td>736041664</td>\n",
       "      <td>ESP</td>\n",
       "      <td>male</td>\n",
       "      <td>1969-10-17</td>\n",
       "      <td>1.72</td>\n",
       "      <td>64.0</td>\n",
       "      <td>athletics</td>\n",
       "      <td>0</td>\n",
       "      <td>0</td>\n",
       "      <td>0</td>\n",
       "    </tr>\n",
       "    <tr>\n",
       "      <th>1</th>\n",
       "      <td>532037425</td>\n",
       "      <td>KOR</td>\n",
       "      <td>female</td>\n",
       "      <td>1986-09-23</td>\n",
       "      <td>1.68</td>\n",
       "      <td>56.0</td>\n",
       "      <td>fencing</td>\n",
       "      <td>0</td>\n",
       "      <td>0</td>\n",
       "      <td>0</td>\n",
       "    </tr>\n",
       "    <tr>\n",
       "      <th>2</th>\n",
       "      <td>435962603</td>\n",
       "      <td>CAN</td>\n",
       "      <td>male</td>\n",
       "      <td>1992-05-27</td>\n",
       "      <td>1.98</td>\n",
       "      <td>79.0</td>\n",
       "      <td>athletics</td>\n",
       "      <td>0</td>\n",
       "      <td>0</td>\n",
       "      <td>1</td>\n",
       "    </tr>\n",
       "    <tr>\n",
       "      <th>3</th>\n",
       "      <td>521041435</td>\n",
       "      <td>MDA</td>\n",
       "      <td>male</td>\n",
       "      <td>1991-01-02</td>\n",
       "      <td>1.83</td>\n",
       "      <td>80.0</td>\n",
       "      <td>taekwondo</td>\n",
       "      <td>0</td>\n",
       "      <td>0</td>\n",
       "      <td>0</td>\n",
       "    </tr>\n",
       "    <tr>\n",
       "      <th>4</th>\n",
       "      <td>33922579</td>\n",
       "      <td>NZL</td>\n",
       "      <td>male</td>\n",
       "      <td>1990-11-26</td>\n",
       "      <td>1.81</td>\n",
       "      <td>71.0</td>\n",
       "      <td>cycling</td>\n",
       "      <td>0</td>\n",
       "      <td>0</td>\n",
       "      <td>0</td>\n",
       "    </tr>\n",
       "    <tr>\n",
       "      <th>...</th>\n",
       "      <td>...</td>\n",
       "      <td>...</td>\n",
       "      <td>...</td>\n",
       "      <td>...</td>\n",
       "      <td>...</td>\n",
       "      <td>...</td>\n",
       "      <td>...</td>\n",
       "      <td>...</td>\n",
       "      <td>...</td>\n",
       "      <td>...</td>\n",
       "    </tr>\n",
       "    <tr>\n",
       "      <th>11533</th>\n",
       "      <td>265605954</td>\n",
       "      <td>CUB</td>\n",
       "      <td>female</td>\n",
       "      <td>1995-08-10</td>\n",
       "      <td>1.64</td>\n",
       "      <td>58.0</td>\n",
       "      <td>athletics</td>\n",
       "      <td>0</td>\n",
       "      <td>0</td>\n",
       "      <td>0</td>\n",
       "    </tr>\n",
       "    <tr>\n",
       "      <th>11534</th>\n",
       "      <td>214461847</td>\n",
       "      <td>CZE</td>\n",
       "      <td>female</td>\n",
       "      <td>1986-12-19</td>\n",
       "      <td>1.73</td>\n",
       "      <td>63.0</td>\n",
       "      <td>athletics</td>\n",
       "      <td>0</td>\n",
       "      <td>0</td>\n",
       "      <td>0</td>\n",
       "    </tr>\n",
       "    <tr>\n",
       "      <th>11535</th>\n",
       "      <td>88361042</td>\n",
       "      <td>CHN</td>\n",
       "      <td>male</td>\n",
       "      <td>1991-05-14</td>\n",
       "      <td>1.85</td>\n",
       "      <td>100.0</td>\n",
       "      <td>wrestling</td>\n",
       "      <td>0</td>\n",
       "      <td>0</td>\n",
       "      <td>0</td>\n",
       "    </tr>\n",
       "    <tr>\n",
       "      <th>11536</th>\n",
       "      <td>900065925</td>\n",
       "      <td>VIE</td>\n",
       "      <td>male</td>\n",
       "      <td>1989-04-05</td>\n",
       "      <td>1.60</td>\n",
       "      <td>56.0</td>\n",
       "      <td>weightlifting</td>\n",
       "      <td>0</td>\n",
       "      <td>0</td>\n",
       "      <td>0</td>\n",
       "    </tr>\n",
       "    <tr>\n",
       "      <th>11537</th>\n",
       "      <td>711404576</td>\n",
       "      <td>RSA</td>\n",
       "      <td>male</td>\n",
       "      <td>1992-01-06</td>\n",
       "      <td>1.85</td>\n",
       "      <td>70.0</td>\n",
       "      <td>athletics</td>\n",
       "      <td>0</td>\n",
       "      <td>0</td>\n",
       "      <td>0</td>\n",
       "    </tr>\n",
       "  </tbody>\n",
       "</table>\n",
       "<p>11538 rows × 10 columns</p>\n",
       "</div>"
      ],
      "text/plain": [
       "              id nationality     sex date_of_birth  height  weight  \\\n",
       "0      736041664         ESP    male    1969-10-17    1.72    64.0   \n",
       "1      532037425         KOR  female    1986-09-23    1.68    56.0   \n",
       "2      435962603         CAN    male    1992-05-27    1.98    79.0   \n",
       "3      521041435         MDA    male    1991-01-02    1.83    80.0   \n",
       "4       33922579         NZL    male    1990-11-26    1.81    71.0   \n",
       "...          ...         ...     ...           ...     ...     ...   \n",
       "11533  265605954         CUB  female    1995-08-10    1.64    58.0   \n",
       "11534  214461847         CZE  female    1986-12-19    1.73    63.0   \n",
       "11535   88361042         CHN    male    1991-05-14    1.85   100.0   \n",
       "11536  900065925         VIE    male    1989-04-05    1.60    56.0   \n",
       "11537  711404576         RSA    male    1992-01-06    1.85    70.0   \n",
       "\n",
       "               sport  gold  silver  bronze  \n",
       "0          athletics     0       0       0  \n",
       "1            fencing     0       0       0  \n",
       "2          athletics     0       0       1  \n",
       "3          taekwondo     0       0       0  \n",
       "4            cycling     0       0       0  \n",
       "...              ...   ...     ...     ...  \n",
       "11533      athletics     0       0       0  \n",
       "11534      athletics     0       0       0  \n",
       "11535      wrestling     0       0       0  \n",
       "11536  weightlifting     0       0       0  \n",
       "11537      athletics     0       0       0  \n",
       "\n",
       "[11538 rows x 10 columns]"
      ]
     },
     "execution_count": 53,
     "metadata": {},
     "output_type": "execute_result"
    }
   ],
   "source": [
    "df"
   ]
  },
  {
   "cell_type": "code",
   "execution_count": 54,
   "metadata": {},
   "outputs": [
    {
     "data": {
      "text/html": [
       "<div>\n",
       "<style scoped>\n",
       "    .dataframe tbody tr th:only-of-type {\n",
       "        vertical-align: middle;\n",
       "    }\n",
       "\n",
       "    .dataframe tbody tr th {\n",
       "        vertical-align: top;\n",
       "    }\n",
       "\n",
       "    .dataframe thead th {\n",
       "        text-align: right;\n",
       "    }\n",
       "</style>\n",
       "<table border=\"1\" class=\"dataframe\">\n",
       "  <thead>\n",
       "    <tr style=\"text-align: right;\">\n",
       "      <th></th>\n",
       "      <th>gold</th>\n",
       "      <th>silver</th>\n",
       "      <th>bronze</th>\n",
       "    </tr>\n",
       "    <tr>\n",
       "      <th>nationality</th>\n",
       "      <th></th>\n",
       "      <th></th>\n",
       "      <th></th>\n",
       "    </tr>\n",
       "  </thead>\n",
       "  <tbody>\n",
       "    <tr>\n",
       "      <th>USA</th>\n",
       "      <td>139</td>\n",
       "      <td>54</td>\n",
       "      <td>71</td>\n",
       "    </tr>\n",
       "    <tr>\n",
       "      <th>GBR</th>\n",
       "      <td>64</td>\n",
       "      <td>55</td>\n",
       "      <td>26</td>\n",
       "    </tr>\n",
       "    <tr>\n",
       "      <th>RUS</th>\n",
       "      <td>52</td>\n",
       "      <td>29</td>\n",
       "      <td>34</td>\n",
       "    </tr>\n",
       "    <tr>\n",
       "      <th>GER</th>\n",
       "      <td>49</td>\n",
       "      <td>44</td>\n",
       "      <td>67</td>\n",
       "    </tr>\n",
       "    <tr>\n",
       "      <th>CHN</th>\n",
       "      <td>46</td>\n",
       "      <td>30</td>\n",
       "      <td>37</td>\n",
       "    </tr>\n",
       "    <tr>\n",
       "      <th>BRA</th>\n",
       "      <td>37</td>\n",
       "      <td>8</td>\n",
       "      <td>6</td>\n",
       "    </tr>\n",
       "    <tr>\n",
       "      <th>AUS</th>\n",
       "      <td>23</td>\n",
       "      <td>34</td>\n",
       "      <td>25</td>\n",
       "    </tr>\n",
       "    <tr>\n",
       "      <th>ARG</th>\n",
       "      <td>21</td>\n",
       "      <td>1</td>\n",
       "      <td>0</td>\n",
       "    </tr>\n",
       "    <tr>\n",
       "      <th>FRA</th>\n",
       "      <td>20</td>\n",
       "      <td>54</td>\n",
       "      <td>21</td>\n",
       "    </tr>\n",
       "    <tr>\n",
       "      <th>JPN</th>\n",
       "      <td>17</td>\n",
       "      <td>13</td>\n",
       "      <td>35</td>\n",
       "    </tr>\n",
       "  </tbody>\n",
       "</table>\n",
       "</div>"
      ],
      "text/plain": [
       "             gold  silver  bronze\n",
       "nationality                      \n",
       "USA           139      54      71\n",
       "GBR            64      55      26\n",
       "RUS            52      29      34\n",
       "GER            49      44      67\n",
       "CHN            46      30      37\n",
       "BRA            37       8       6\n",
       "AUS            23      34      25\n",
       "ARG            21       1       0\n",
       "FRA            20      54      21\n",
       "JPN            17      13      35"
      ]
     },
     "execution_count": 54,
     "metadata": {},
     "output_type": "execute_result"
    }
   ],
   "source": [
    "top"
   ]
  },
  {
   "cell_type": "code",
   "execution_count": 58,
   "metadata": {},
   "outputs": [
    {
     "data": {
      "text/plain": [
       "<Axes: xlabel='nationality'>"
      ]
     },
     "execution_count": 58,
     "metadata": {},
     "output_type": "execute_result"
    },
    {
     "data": {
      "image/png": "[encoded data removed]",
      "text/plain": [
       "<Figure size 432x288 with 1 Axes>"
      ]
     },
     "metadata": {
      "needs_background": "light"
     },
     "output_type": "display_data"
    }
   ],
   "source": [
    "fig, ax = plt.subplots()\n",
    "top.plot.bar(color=['gold', 'silver', 'brown'], ax=ax, stacked=True)"
   ]
  },
  {
   "cell_type": "markdown",
   "metadata": {},
   "source": [
    "matplotlib gridspec\n",
    "\n",
    "https://matplotlib.org/2.0.2/users/gridspec.html\n"
   ]
  },
  {
   "cell_type": "markdown",
   "metadata": {},
   "source": [
    "# Styling: Colors, Themes, Sizes"
   ]
  },
  {
   "cell_type": "code",
   "execution_count": 59,
   "metadata": {},
   "outputs": [
    {
     "data": {
      "text/plain": [
       "['Solarize_Light2',\n",
       " '_classic_test_patch',\n",
       " '_mpl-gallery',\n",
       " '_mpl-gallery-nogrid',\n",
       " 'bmh',\n",
       " 'classic',\n",
       " 'dark_background',\n",
       " 'fast',\n",
       " 'fivethirtyeight',\n",
       " 'ggplot',\n",
       " 'grayscale',\n",
       " 'seaborn-v0_8',\n",
       " 'seaborn-v0_8-bright',\n",
       " 'seaborn-v0_8-colorblind',\n",
       " 'seaborn-v0_8-dark',\n",
       " 'seaborn-v0_8-dark-palette',\n",
       " 'seaborn-v0_8-darkgrid',\n",
       " 'seaborn-v0_8-deep',\n",
       " 'seaborn-v0_8-muted',\n",
       " 'seaborn-v0_8-notebook',\n",
       " 'seaborn-v0_8-paper',\n",
       " 'seaborn-v0_8-pastel',\n",
       " 'seaborn-v0_8-poster',\n",
       " 'seaborn-v0_8-talk',\n",
       " 'seaborn-v0_8-ticks',\n",
       " 'seaborn-v0_8-white',\n",
       " 'seaborn-v0_8-whitegrid',\n",
       " 'tableau-colorblind10']"
      ]
     },
     "execution_count": 59,
     "metadata": {},
     "output_type": "execute_result"
    }
   ],
   "source": [
    "plt.style.available"
   ]
  },
  {
   "cell_type": "code",
   "execution_count": 60,
   "metadata": {},
   "outputs": [],
   "source": [
    "import wat"
   ]
  },
  {
   "cell_type": "code",
   "execution_count": 61,
   "metadata": {},
   "outputs": [
    {
     "name": "stdout",
     "output_type": "stream",
     "text": [
      "value: <module 'matplotlib.pyplot' from '/Users/yaojack/anaconda3/envs/ml/lib/python3.8/site-packages/matplotlib/pyplot.py'>\n",
      "type: module\n",
      "\n",
      "Public attributes:\n",
      "  cbook: module = <module 'matplotlib.cbook' from '/Users/yaojack/anaconda3/envs/ml/lib/python3.8/site-packages…\n",
      "  cm: module = <module 'matplotlib.cm' from '/Users/yaojack/anaconda3/envs/ml/lib/python3.8/site-packages/ma…\n",
      "  color_sequences: matplotlib.colors.ColorSequenceRegistry = ColorSequenceRegistry; available colormaps:…\n",
      "  functools: module = <module 'functools' from '/Users/yaojack/anaconda3/envs/ml/lib/python3.8/functools.py'>\n",
      "  importlib: module = <module 'importlib' from '/Users/yaojack/anaconda3/envs/ml/lib/python3.8/importlib/__init__.p…\n",
      "  inspect: module = <module 'inspect' from '/Users/yaojack/anaconda3/envs/ml/lib/python3.8/inspect.py'>\n",
      "  logging: module = <module 'logging' from '/Users/yaojack/anaconda3/envs/ml/lib/python3.8/logging/__init__.py'>\u001b…\n",
      "  matplotlib: module = <module 'matplotlib' from '/Users/yaojack/anaconda3/envs/ml/lib/python3.8/site-packages/matpl…\n",
      "  mlab: module = <module 'matplotlib.mlab' from '/Users/yaojack/anaconda3/envs/ml/lib/python3.8/site-packages/…\n",
      "  np: module = <module 'numpy' from '/Users/yaojack/anaconda3/envs/ml/lib/python3.8/site-packages/numpy/__in…\n",
      "  rcParams: matplotlib.RcParams = {…\n",
      "  rcParamsDefault: matplotlib.RcParams = {…\n",
      "  rcParamsOrig: matplotlib.RcParams = {…\n",
      "  rcsetup: module = <module 'matplotlib.rcsetup' from '/Users/yaojack/anaconda3/envs/ml/lib/python3.8/site-packag…\n",
      "  re: module = <module 're' from '/Users/yaojack/anaconda3/envs/ml/lib/python3.8/re.py'>\n",
      "  style: module = <module 'matplotlib.style' from '/Users/yaojack/anaconda3/envs/ml/lib/python3.8/site-packages…\n",
      "  sys: module = <module 'sys' (built-in)>\n",
      "  threading: module = <module 'threading' from '/Users/yaojack/anaconda3/envs/ml/lib/python3.8/threading.py'>\n",
      "  time: module = <module 'time' (built-in)>\n",
      "\n",
      "  class Annotation(text, xy, xytext=None, xycoords='data', textcoords=None, arrowprops=None, annotation_clip=None, **kwargs) # An `.Annotation` is a `.Text` that can refer to a specific position *xy*.…\n",
      "  class Arrow(x, y, dx, dy, *, width=1.0, **kwargs) # An arrow patch.\n",
      "  class Artist() # Abstract base class for objects that render into a FigureCanvas.…\n",
      "  class AutoLocator() # Dynamically find major tick positions. This is actually a subclass…\n",
      "  class Axes(fig, *args, facecolor=None, frameon=True, sharex=None, sharey=None, label='', xscale=None, yscale=None, box_aspect=None, **kwargs) # An Axes object encapsulates all the elements of an individual (sub-)plot in…\n",
      "  class Button(ax, label, image=None, color='0.85', hovercolor='0.95', *, useblit=True) # A GUI neutral button.…\n",
      "  class Circle(xy, radius=5, **kwargs) # A circle patch.\n",
      "  class Enum(value, names=None, *, module=None, qualname=None, type=None, start=1) # Generic enumeration.…\n",
      "  class ExitStack() # Context manager for dynamic management of a stack of exit callbacks.…\n",
      "  class Figure(figsize=None, dpi=None, *, facecolor=None, edgecolor=None, linewidth=0.0, frameon=None, subplotpars=None, tight_layout=None, constrained_layout=None, layout=None, **kwargs) # The top level container for all the plot elements.…\n",
      "  class FigureBase(**kwargs) # Base class for `.Figure` and `.SubFigure` containing the methods that add…\n",
      "  class FigureCanvasBase(figure=None) # The canvas the figure renders into.…\n",
      "  class FigureManagerBase(canvas, num) # A backend-independent abstraction of a figure container and controller.…\n",
      "  class FixedFormatter(seq) # Return fixed strings for tick labels based only on position, not value.…\n",
      "  class FixedLocator(locs, nbins=None) # Tick locations are fixed at *locs*.  If *nbins* is not None,…\n",
      "  class FormatStrFormatter(fmt) # Use an old-style ('%' operator) format string to format the tick.…\n",
      "  class Formatter() # Create a string based on a tick value and location.\n",
      "  class FuncFormatter(func) # Use a user-defined function for formatting.…\n",
      "  class GridSpec(nrows, ncols, figure=None, left=None, bottom=None, right=None, top=None, wspace=None, hspace=None, width_ratios=None, height_ratios=None) # A grid layout to place subplots within a figure.…\n",
      "  class IndexLocator(base, offset) # Place a tick on every multiple of some base number of points…\n",
      "  class Line2D(xdata, ydata, *, linewidth=None, linestyle=None, color=None, gapcolor=None, marker=None, markersize=None, markeredgewidth=None, markeredgecolor=None, markerfacecolor=None, markerfacecoloralt='none', fillstyle=None, antialiased=None, dash_capstyle=None, solid_capstyle=None, dash_joinstyle=None, solid_joinstyle=None, pickradius=5, drawstyle=None, markevery=None, **kwargs) # A line - the line can have both a solid linestyle connecting all…\n",
      "  class LinearLocator(numticks=None, presets=None) # Determine the tick locations…\n",
      "  class Locator() # Determine the tick locations;…\n",
      "  class LogFormatter(base=10.0, labelOnlyBase=False, minor_thresholds=None, linthresh=None) # Base class for formatting ticks on a log or symlog scale.…\n",
      "  class LogFormatterExponent(base=10.0, labelOnlyBase=False, minor_thresholds=None, linthresh=None) # Format values for log axis using ``exponent = log_base(value)``.\n",
      "  class LogFormatterMathtext(base=10.0, labelOnlyBase=False, minor_thresholds=None, linthresh=None) # Format values for log axis using ``exponent = log_base(value)``.\n",
      "  class LogLocator(base=10.0, subs=(1.0,), numdecs=4, numticks=None) # Determine the tick locations for log axes.…\n",
      "  class MaxNLocator(nbins=None, **kwargs) # Find nice tick locations with no more than *nbins* + 1 being within the…\n",
      "  class MouseButton(value, names=None, *, module=None, qualname=None, type=None, start=1) # An enumeration.\n",
      "  class MultipleLocator(base=1.0) # Set a tick on each integer multiple of the *base* within the view…\n",
      "  class Normalize(vmin=None, vmax=None, clip=False) # A class which, when called, linearly normalizes data into the…\n",
      "  class NullFormatter() # Always return the empty string.\n",
      "  class NullLocator() # No ticks\n",
      "  class Number() # All numbers inherit from this class.…\n",
      "  class PolarAxes(*args, theta_offset=0, theta_direction=1, rlabel_position=22.5, **kwargs) # A polar graph projection, where the input dimensions are *theta*, *r*.…\n",
      "  class Polygon(xy, *, closed=True, **kwargs) # A general polygon patch.\n",
      "  class Rectangle(xy, width, height, *, angle=0.0, rotation_point='xy', **kwargs) # A rectangle defined via an anchor point *xy* and its *width* and *height*.…\n",
      "  class ScalarFormatter(useOffset=None, useMathText=None, useLocale=None) # Format tick values as a number.…\n",
      "  class Slider(ax, label, valmin, valmax, *, valinit=0.5, valfmt=None, closedmin=True, closedmax=True, slidermin=None, slidermax=None, dragging=True, valstep=None, orientation='horizontal', initcolor='r', track_color='lightgrey', handle_style=None, **kwargs) # A slider representing a floating point range.…\n",
      "  class Subplot(fig, *args, facecolor=None, frameon=True, sharex=None, sharey=None, label='', xscale=None, yscale=None, box_aspect=None, **kwargs) # An Axes object encapsulates all the elements of an individual (sub-)plot in…\n",
      "  class SubplotSpec(gridspec, num1, num2=None) # The location of a subplot in a `GridSpec`.…\n",
      "  class Text(x=0, y=0, text='', *, color=None, verticalalignment='baseline', horizontalalignment='left', multialignment=None, fontproperties=None, rotation=None, linespacing=None, rotation_mode=None, usetex=None, wrap=False, transform_rotates_text=False, parse_math=None, **kwargs) # Handle storing and drawing of text in window or data coordinates.\n",
      "  class TickHelper()\n",
      "  class Widget() # Abstract base class for GUI neutral widgets.\n",
      "  def acorr(x, *, data=None, **kwargs) # Plot the autocorrelation of *x*.…\n",
      "  def angle_spectrum(x, Fs=None, Fc=None, window=None, pad_to=None, sides=None, *, data=None, **kwargs) # Plot the angle spectrum.…\n",
      "  def annotate(text, xy, xytext=None, xycoords='data', textcoords=None, arrowprops=None, annotation_clip=None, **kwargs) # Annotate the point *xy* with text *text*.…\n",
      "  def arrow(x, y, dx, dy, **kwargs) # Add an arrow to the Axes.…\n",
      "  def autoscale(enable=True, axis='both', tight=None) # Autoscale the axis view to the data (toggle).…\n",
      "  def autumn() # Set the colormap to 'autumn'.…\n",
      "  def axes(arg=None, **kwargs) # Add an Axes to the current figure and make it the current Axes.…\n",
      "  def axhline(y=0, xmin=0, xmax=1, **kwargs) # Add a horizontal line across the Axes.…\n",
      "  def axhspan(ymin, ymax, xmin=0, xmax=1, **kwargs) # Add a horizontal span (rectangle) across the Axes.…\n",
      "  def axis(arg=None, /, *, emit=True, **kwargs) # Convenience method to get or set some axis properties.…\n",
      "  def axline(xy1, xy2=None, *, slope=None, **kwargs) # Add an infinitely long straight line.…\n",
      "  def axvline(x=0, ymin=0, ymax=1, **kwargs) # Add a vertical line across the Axes.…\n",
      "  def axvspan(xmin, xmax, ymin=0, ymax=1, **kwargs) # Add a vertical span (rectangle) across the Axes.…\n",
      "  def bar(x, height, width=0.8, bottom=None, *, align='center', data=None, **kwargs) # Make a bar plot.…\n",
      "  def bar_label(container, labels=None, *, fmt='%g', label_type='edge', padding=0, **kwargs) # Label a bar plot.…\n",
      "  def barbs(*args, data=None, **kwargs) # Plot a 2D field of barbs.…\n",
      "  def barh(y, width, height=0.8, left=None, *, align='center', data=None, **kwargs) # Make a horizontal bar plot.…\n",
      "  def bone() # Set the colormap to 'bone'.…\n",
      "  def box(on=None) # Turn the axes box on or off on the current axes.…\n",
      "  def boxplot(x, notch=None, sym=None, vert=None, whis=None, positions=None, widths=None, patch_artist=None, bootstrap=None, usermedians=None, conf_intervals=None, meanline=None, showmeans=None, showcaps=None, showbox=None, showfliers=None, boxprops=None, labels=None, flierprops=None, medianprops=None, meanprops=None, capprops=None, whiskerprops=None, manage_ticks=True, autorange=False, zorder=None, capwidths=None, *, data=None) # Draw a box and whisker plot.…\n",
      "  def broken_barh(xranges, yrange, *, data=None, **kwargs) # Plot a horizontal sequence of rectangles.…\n",
      "  def cla() # Clear the current axes.\n",
      "  def clabel(CS, levels=None, **kwargs) # Label a contour plot.…\n",
      "  def clf() # Clear the current figure.\n",
      "  def clim(vmin=None, vmax=None) # Set the color limits of the current image.…\n",
      "  def close(fig=None) # Close a figure window.…\n",
      "  def cohere(x, y, NFFT=256, Fs=2, Fc=0, detrend=<function detrend_none at 0x7fb9c02900d0>, window=<function window_hanning at 0x7fb9c0288e50>, noverlap=0, pad_to=None, sides='default', scale_by_freq=None, *, data=None, **kwargs) # Plot the coherence between *x* and *y*.…\n",
      "  def colorbar(mappable=None, cax=None, ax=None, **kwargs) # Add a colorbar to a plot.…\n",
      "  colormaps() # Container for colormaps that are known to Matplotlib by name.…\n",
      "  def connect(s, func) # Bind function *func* to event *s*.…\n",
      "  def contour(*args, data=None, **kwargs) # Plot contour lines.…\n",
      "  def contourf(*args, data=None, **kwargs) # Plot filled contours.…\n",
      "  def cool() # Set the colormap to 'cool'.…\n",
      "  def copper() # Set the colormap to 'copper'.…\n",
      "  def csd(x, y, NFFT=None, Fs=None, Fc=None, detrend=None, window=None, noverlap=None, pad_to=None, sides=None, scale_by_freq=None, return_line=None, *, data=None, **kwargs) # Plot the cross-spectral density.…\n",
      "  def cycler(*args, **kwargs) # Create a new `Cycler` object from a single positional argument,…\n",
      "  def delaxes(ax=None) # Remove an `~.axes.Axes` (defaulting to the current axes) from its figure.\n",
      "  def disconnect(cid) # Disconnect the callback with id *cid*.…\n",
      "  def draw() # Redraw the current figure.…\n",
      "  def draw_all(force=False) # Redraw all stale managed figures, or, if *force* is True, all managed…\n",
      "  def draw_if_interactive() # Redraw the current figure if in interactive mode.…\n",
      "  def errorbar(x, y, yerr=None, xerr=None, fmt='', ecolor=None, elinewidth=None, capsize=None, barsabove=False, lolims=False, uplims=False, xlolims=False, xuplims=False, errorevery=1, capthick=None, *, data=None, **kwargs) # Plot y versus x as lines and/or markers with attached errorbars.…\n",
      "  def eventplot(positions, orientation='horizontal', lineoffsets=1, linelengths=1, linewidths=None, colors=None, alpha=None, linestyles='solid', *, data=None, **kwargs) # Plot identical parallel lines at the given positions.…\n",
      "  def figaspect(arg) # Calculate the width and height for a figure with a specified aspect ratio.…\n",
      "  def figimage(X, xo=0, yo=0, alpha=None, norm=None, cmap=None, vmin=None, vmax=None, origin=None, resize=False, **kwargs) # Add a non-resampled image to the figure.…\n",
      "  def figlegend(*args, **kwargs) # Place a legend on the figure.…\n",
      "  def fignum_exists(num) # Return whether the figure with the given id exists.\n",
      "  def figtext(x, y, s, fontdict=None, **kwargs) # Add text to figure.…\n",
      "  def figure(num=None, figsize=None, dpi=None, *, facecolor=None, edgecolor=None, frameon=True, FigureClass=<class 'matplotlib.figure.Figure'>, clear=False, **kwargs) # Create a new figure, or activate an existing figure.…\n",
      "  def fill(*args, data=None, **kwargs) # Plot filled polygons.…\n",
      "  def fill_between(x, y1, y2=0, where=None, interpolate=False, step=None, *, data=None, **kwargs) # Fill the area between two horizontal curves.…\n",
      "  def fill_betweenx(y, x1, x2=0, where=None, step=None, interpolate=False, *, data=None, **kwargs) # Fill the area between two vertical curves.…\n",
      "  def findobj(o=None, match=None, include_self=True) # Find artist objects.…\n",
      "  def flag() # Set the colormap to 'flag'.…\n",
      "  def gca() # Get the current Axes.…\n",
      "  def gcf() # Get the current figure.…\n",
      "  def gci() # Get the current colorable artist.…\n",
      "  def get(obj, *args, **kwargs) # Return the value of an `.Artist`'s *property*, or print all of them.…\n",
      "  def get_backend() # Return the name of the current backend.…\n",
      "  def get_cmap(name=None, lut=None) # Get a colormap instance, defaulting to rc values if *name* is None.…\n",
      "  def get_current_fig_manager() # Return the figure manager of the current figure.…\n",
      "  def get_figlabels() # Return a list of existing figure labels.\n",
      "  def get_fignums() # Return a list of existing figure numbers.\n",
      "  def get_plot_commands() # [*Deprecated*] Get a sorted list of all of the plotting commands.…\n",
      "  def get_scale_names() # Return the names of the available scales.\n",
      "  def getp(obj, *args, **kwargs) # Return the value of an `.Artist`'s *property*, or print all of them.…\n",
      "  def ginput(n=1, timeout=30, show_clicks=True, mouse_add=<MouseButton.LEFT: 1>, mouse_pop=<MouseButton.RIGHT: 3>, mouse_stop=<MouseButton.MIDDLE: 2>) # Blocking call to interact with a figure.…\n",
      "  def gray() # Set the colormap to 'gray'.…\n",
      "  def grid(visible=None, which='major', axis='both', **kwargs) # Configure the grid lines.…\n",
      "  def hexbin(x, y, C=None, gridsize=100, bins=None, xscale='linear', yscale='linear', extent=None, cmap=None, norm=None, vmin=None, vmax=None, alpha=None, linewidths=None, edgecolors='face', reduce_C_function=<function mean at 0x7fba102f3430>, mincnt=None, marginals=False, *, data=None, **kwargs) # Make a 2D hexagonal binning plot of points *x*, *y*.…\n",
      "  def hist(x, bins=None, range=None, density=False, weights=None, cumulative=False, bottom=None, histtype='bar', align='mid', orientation='vertical', rwidth=None, log=False, color=None, label=None, stacked=False, *, data=None, **kwargs) # Compute and plot a histogram.…\n",
      "  def hist2d(x, y, bins=10, range=None, density=False, weights=None, cmin=None, cmax=None, *, data=None, **kwargs) # Make a 2D histogram plot.…\n",
      "  def hlines(y, xmin, xmax, colors=None, linestyles='solid', label='', *, data=None, **kwargs) # Plot horizontal lines at each *y* from *xmin* to *xmax*.…\n",
      "  def hot() # Set the colormap to 'hot'.…\n",
      "  def hsv() # Set the colormap to 'hsv'.…\n",
      "  def imread(fname, format=None) # Read an image from a file into an array.…\n",
      "  def imsave(fname, arr, **kwargs) # Colormap and save an array as an image file.…\n",
      "  def imshow(X, cmap=None, norm=None, *, aspect=None, interpolation=None, alpha=None, vmin=None, vmax=None, origin=None, extent=None, interpolation_stage=None, filternorm=True, filterrad=4.0, resample=None, url=None, data=None, **kwargs) # Display data as an image, i.e., on a 2D regular raster.…\n",
      "  def inferno() # Set the colormap to 'inferno'.…\n",
      "  def install_repl_displayhook() # Connect to the display hook of the current shell.…\n",
      "  def interactive(b) # Set whether to redraw after every plotting command (e.g. `.pyplot.xlabel`).\n",
      "  def ioff() # Disable interactive mode.…\n",
      "  def ion() # Enable interactive mode.…\n",
      "  def isinteractive() # Return whether plots are updated after every plotting command.…\n",
      "  def jet() # Set the colormap to 'jet'.…\n",
      "  def legend(*args, **kwargs) # Place a legend on the Axes.…\n",
      "  def locator_params(axis='both', tight=None, **kwargs) # Control behavior of major tick locators.…\n",
      "  def loglog(*args, **kwargs) # Make a plot with log scaling on both the x- and y-axis.…\n",
      "  def magma() # Set the colormap to 'magma'.…\n",
      "  def magnitude_spectrum(x, Fs=None, Fc=None, window=None, pad_to=None, sides=None, scale=None, *, data=None, **kwargs) # Plot the magnitude spectrum.…\n",
      "  def margins(*margins, x=None, y=None, tight=True) # Set or retrieve autoscaling margins.…\n",
      "  def matshow(A, fignum=None, **kwargs) # Display an array as a matrix in a new figure window.…\n",
      "  def minorticks_off() # Remove minor ticks from the Axes.\n",
      "  def minorticks_on() # Display minor ticks on the Axes.…\n",
      "  def new_figure_manager(num, *args, **kwargs) # Create a new figure manager instance.\n",
      "  def nipy_spectral() # Set the colormap to 'nipy_spectral'.…\n",
      "  def pause(interval) # Run the GUI event loop for *interval* seconds.…\n",
      "  def pcolor(*args, shading=None, alpha=None, norm=None, cmap=None, vmin=None, vmax=None, data=None, **kwargs) # Create a pseudocolor plot with a non-regular rectangular grid.…\n",
      "  def pcolormesh(*args, alpha=None, norm=None, cmap=None, vmin=None, vmax=None, shading=None, antialiased=False, data=None, **kwargs) # Create a pseudocolor plot with a non-regular rectangular grid.…\n",
      "  def phase_spectrum(x, Fs=None, Fc=None, window=None, pad_to=None, sides=None, *, data=None, **kwargs) # Plot the phase spectrum.…\n",
      "  def pie(x, explode=None, labels=None, colors=None, autopct=None, pctdistance=0.6, shadow=False, labeldistance=1.1, startangle=0, radius=1, counterclock=True, wedgeprops=None, textprops=None, center=(0, 0), frame=False, rotatelabels=False, *, normalize=True, hatch=None, data=None) # Plot a pie chart.…\n",
      "  def pink() # Set the colormap to 'pink'.…\n",
      "  def plasma() # Set the colormap to 'plasma'.…\n",
      "  def plot(*args, scalex=True, scaley=True, data=None, **kwargs) # Plot y versus x as lines and/or markers.…\n",
      "  def plot_date(x, y, fmt='o', tz=None, xdate=True, ydate=False, *, data=None, **kwargs) # [*Discouraged*] Plot coercing the axis to treat floats as dates.…\n",
      "  def polar(*args, **kwargs) # Make a polar plot.…\n",
      "  def prism() # Set the colormap to 'prism'.…\n",
      "  def psd(x, NFFT=None, Fs=None, Fc=None, detrend=None, window=None, noverlap=None, pad_to=None, sides=None, scale_by_freq=None, return_line=None, *, data=None, **kwargs) # Plot the power spectral density.…\n",
      "  def quiver(*args, data=None, **kwargs) # Plot a 2D field of arrows.…\n",
      "  def quiverkey(Q, X, Y, U, label, **kwargs) # Add a key to a quiver plot.…\n",
      "  def rc(group, **kwargs) # Set the current `.rcParams`.  *group* is the grouping for the rc, e.g.,…\n",
      "  def rc_context(rc=None, fname=None) # Return a context manager for temporarily changing rcParams.…\n",
      "  def rcdefaults() # Restore the `.rcParams` from Matplotlib's internal default style.…\n",
      "  def register_cmap(name=None, cmap=None, *, override_builtin=False) # [*Deprecated*] Add a colormap to the set recognized by :func:`get_cmap`.…\n",
      "  def rgrids(radii=None, labels=None, angle=None, fmt=None, **kwargs) # Get or set the radial gridlines on the current polar plot.…\n",
      "  def savefig(*args, **kwargs) # Save the current figure.…\n",
      "  def sca(ax) # Set the current Axes to *ax* and the current Figure to the parent of *ax*.\n",
      "  def scatter(x, y, s=None, c=None, marker=None, cmap=None, norm=None, vmin=None, vmax=None, alpha=None, linewidths=None, *, edgecolors=None, plotnonfinite=False, data=None, **kwargs) # A scatter plot of *y* vs. *x* with varying marker size and/or color.…\n",
      "  def sci(im) # Set the current image.…\n",
      "  def semilogx(*args, **kwargs) # Make a plot with log scaling on the x-axis.…\n",
      "  def semilogy(*args, **kwargs) # Make a plot with log scaling on the y-axis.…\n",
      "  def set_cmap(cmap) # Set the default colormap, and applies it to the current image if any.…\n",
      "  def set_loglevel(*args, **kwargs) # Configure Matplotlib's logging levels.…\n",
      "  def setp(obj, *args, **kwargs) # Set one or more properties on an `.Artist`, or list allowed values.…\n",
      "  def show(close=None, block=None) # Display all open figures.…\n",
      "  def specgram(x, NFFT=None, Fs=None, Fc=None, detrend=None, window=None, noverlap=None, cmap=None, xextent=None, pad_to=None, sides=None, scale_by_freq=None, mode=None, scale=None, vmin=None, vmax=None, *, data=None, **kwargs) # Plot a spectrogram.…\n",
      "  def spring() # Set the colormap to 'spring'.…\n",
      "  def spy(Z, precision=0, marker=None, markersize=None, aspect='equal', origin='upper', **kwargs) # Plot the sparsity pattern of a 2D array.…\n",
      "  def stackplot(x, *args, labels=(), colors=None, baseline='zero', data=None, **kwargs) # Draw a stacked area plot.…\n",
      "  def stairs(values, edges=None, *, orientation='vertical', baseline=0, fill=False, data=None, **kwargs) # A stepwise constant function as a line with bounding edges…\n",
      "  def stem(*args, linefmt=None, markerfmt=None, basefmt=None, bottom=0, label=None, use_line_collection=<deprecated parameter>, orientation='vertical', data=None) # Create a stem plot.…\n",
      "  def step(x, y, *args, where='pre', data=None, **kwargs) # Make a step plot.…\n",
      "  def streamplot(x, y, u, v, density=1, linewidth=None, color=None, cmap=None, norm=None, arrowsize=1, arrowstyle='-|>', minlength=0.1, transform=None, zorder=None, start_points=None, maxlength=4.0, integration_direction='both', broken_streamlines=True, *, data=None) # Draw streamlines of a vector flow.…\n",
      "  def subplot(*args, **kwargs) # Add an Axes to the current figure or retrieve an existing Axes.…\n",
      "  def subplot2grid(shape, loc, rowspan=1, colspan=1, fig=None, **kwargs) # Create a subplot at a specific location inside a regular grid.…\n",
      "  def subplot_mosaic(mosaic, *, sharex=False, sharey=False, width_ratios=None, height_ratios=None, empty_sentinel='.', subplot_kw=None, gridspec_kw=None, per_subplot_kw=None, **fig_kw) # Build a layout of Axes based on ASCII art or nested lists.…\n",
      "  def subplot_tool(targetfig=None) # Launch a subplot tool window for a figure.…\n",
      "  def subplots(nrows=1, ncols=1, *, sharex=False, sharey=False, squeeze=True, width_ratios=None, height_ratios=None, subplot_kw=None, gridspec_kw=None, **fig_kw) # Create a figure and a set of subplots.…\n",
      "  def subplots_adjust(left=None, bottom=None, right=None, top=None, wspace=None, hspace=None) # Adjust the subplot layout parameters.…\n",
      "  def summer() # Set the colormap to 'summer'.…\n",
      "  def suptitle(t, **kwargs) # Add a centered suptitle to the figure.…\n",
      "  def switch_backend(newbackend) # Set the pyplot backend.…\n",
      "  def table(cellText=None, cellColours=None, cellLoc='right', colWidths=None, rowLabels=None, rowColours=None, rowLoc='left', colLabels=None, colColours=None, colLoc='center', loc='bottom', bbox=None, edges='closed', **kwargs) # Add a table to an `~.axes.Axes`.…\n",
      "  def text(x, y, s, fontdict=None, **kwargs) # Add text to the Axes.…\n",
      "  def thetagrids(angles=None, labels=None, fmt=None, **kwargs) # Get or set the theta gridlines on the current polar plot.…\n",
      "  def tick_params(axis='both', **kwargs) # Change the appearance of ticks, tick labels, and gridlines.…\n",
      "  def ticklabel_format(*, axis='both', style='', scilimits=None, useOffset=None, useLocale=None, useMathText=None) # Configure the `.ScalarFormatter` used by default for linear Axes.…\n",
      "  def tight_layout(*, pad=1.08, h_pad=None, w_pad=None, rect=None) # Adjust the padding between and around subplots.…\n",
      "  def title(label, fontdict=None, loc=None, pad=None, *, y=None, **kwargs) # Set a title for the Axes.…\n",
      "  def tricontour(*args, **kwargs) # Draw contour lines on an unstructured triangular grid.…\n",
      "  def tricontourf(*args, **kwargs) # Draw contour regions on an unstructured triangular grid.…\n",
      "  def tripcolor(*args, alpha=1.0, norm=None, cmap=None, vmin=None, vmax=None, shading='flat', facecolors=None, **kwargs) # Create a pseudocolor plot of an unstructured triangular grid.…\n",
      "  def triplot(*args, **kwargs) # Draw an unstructured triangular grid as lines and/or markers.…\n",
      "  def twinx(ax=None) # Make and return a second axes that shares the *x*-axis.  The new axes will…\n",
      "  def twiny(ax=None) # Make and return a second axes that shares the *y*-axis.  The new axes will…\n",
      "  def uninstall_repl_displayhook() # Disconnect from the display hook of the current shell.\n",
      "  def violinplot(dataset, positions=None, vert=True, widths=0.5, showmeans=False, showextrema=True, showmedians=False, quantiles=None, points=100, bw_method=None, *, data=None) # Make a violin plot.…\n",
      "  def viridis() # Set the colormap to 'viridis'.…\n",
      "  def vlines(x, ymin, ymax, colors=None, linestyles='solid', label='', *, data=None, **kwargs) # Plot vertical lines at each *x* from *ymin* to *ymax*.…\n",
      "  def waitforbuttonpress(timeout=-1) # Blocking call to interact with the figure.…\n",
      "  def winter() # Set the colormap to 'winter'.…\n",
      "  def xcorr(x, y, normed=True, detrend=<function detrend_none at 0x7fb9c02900d0>, usevlines=True, maxlags=10, *, data=None, **kwargs) # Plot the cross correlation between *x* and *y*.…\n",
      "  def xkcd(scale=1, length=100, randomness=2) # Turn on `xkcd <https://xkcd.com/>`_ sketch-style drawing mode.  This will…\n",
      "  def xlabel(xlabel, fontdict=None, labelpad=None, *, loc=None, **kwargs) # Set the label for the x-axis.…\n",
      "  def xlim(*args, **kwargs) # Get or set the x limits of the current axes.…\n",
      "  def xscale(value, **kwargs) # Set the xaxis' scale.…\n",
      "  def xticks(ticks=None, labels=None, *, minor=False, **kwargs) # Get or set the current tick locations and labels of the x-axis.…\n",
      "  def ylabel(ylabel, fontdict=None, labelpad=None, *, loc=None, **kwargs) # Set the label for the y-axis.…\n",
      "  def ylim(*args, **kwargs) # Get or set the y-limits of the current axes.…\n",
      "  def yscale(value, **kwargs) # Set the yaxis' scale.…\n",
      "  def yticks(ticks=None, labels=None, *, minor=False, **kwargs) # Get or set the current tick locations and labels of the y-axis.…\n",
      "\n",
      "Private attributes:\n",
      "  _REPL_DISPLAYHOOK: matplotlib.pyplot._ReplDisplayHook = _ReplDisplayHook.IPYTHON\n",
      "  _api: module = <module 'matplotlib._api' from '/Users/yaojack/anaconda3/envs/ml/lib/python3.8/site-packages/…\n",
      "  _docstring: module = <module 'matplotlib._docstring' from '/Users/yaojack/anaconda3/envs/ml/lib/python3.8/site-pac…\n",
      "  _interactive_bk: list = […\n",
      "  _log: logging.Logger = <Logger matplotlib.pyplot (WARNING)>\n",
      "  _pylab_helpers: module = <module 'matplotlib._pylab_helpers' from '/Users/yaojack/anaconda3/envs/ml/lib/python3.8/site…\n",
      "\n",
      "  class _ReplDisplayHook(value, names=None, *, module=None, qualname=None, type=None, start=1) # An enumeration.\n",
      "  def _auto_draw_if_interactive(fig, val) # An internal helper function for making sure that auto-redrawing…\n",
      "  class _backend_mod() # A matplotlib backend for publishing figures via display_data\n",
      "  def _copy_docstring_and_deprecators(method, func=None)\n",
      "  def _draw_all_if_interactive()\n",
      "  def _get_backend_mod() # Ensure that a backend is selected and return it.…\n",
      "  def _get_pyplot_commands()\n",
      "  def _get_required_interactive_framework(backend_mod)\n",
      "  def _warn_if_gui_out_of_main_thread()\n"
     ]
    }
   ],
   "source": [
    "wat(plt)"
   ]
  },
  {
   "cell_type": "code",
   "execution_count": 63,
   "metadata": {},
   "outputs": [
    {
     "name": "stdout",
     "output_type": "stream",
     "text": [
      "value: <module 'matplotlib.style' from '/Users/yaojack/anaconda3/envs/ml/lib/python3.8/site-packages/matplotlib/style/__init__.py'>\n",
      "type: module\n",
      "\n",
      "Public attributes:\n",
      "  available: list = […\n",
      "  core: module = <module 'matplotlib.style.core' from '/Users/yaojack/anaconda3/envs/ml/lib/python3.8/site-pac…\n",
      "  library: matplotlib.style.core._StyleLibrary = {…\n",
      "\n",
      "  def context(style, after_reset=False) # Context manager for using style settings temporarily.…\n",
      "  def reload_library() # Reload the style library.\n",
      "  def use(style) # Use Matplotlib style settings from a style specification.…\n"
     ]
    }
   ],
   "source": [
    "wat(plt.style)"
   ]
  },
  {
   "cell_type": "code",
   "execution_count": 64,
   "metadata": {},
   "outputs": [],
   "source": [
    "plt.style.use('ggplot')"
   ]
  },
  {
   "cell_type": "code",
   "execution_count": 65,
   "metadata": {},
   "outputs": [
    {
     "data": {
      "text/plain": [
       "<Axes: xlabel='nationality'>"
      ]
     },
     "execution_count": 65,
     "metadata": {},
     "output_type": "execute_result"
    },
    {
     "data": {
      "image/png": "[encoded data removed]",
      "text/plain": [
       "<Figure size 432x288 with 1 Axes>"
      ]
     },
     "metadata": {},
     "output_type": "display_data"
    }
   ],
   "source": [
    "fig, ax = plt.subplots()\n",
    "top.plot.bar(color=['gold', 'silver', 'brown'], ax=ax, stacked=True)"
   ]
  },
  {
   "cell_type": "code",
   "execution_count": 67,
   "metadata": {},
   "outputs": [
    {
     "data": {
      "text/plain": [
       "<Axes: xlabel='nationality'>"
      ]
     },
     "execution_count": 67,
     "metadata": {},
     "output_type": "execute_result"
    },
    {
     "data": {
      "image/png": "[encoded data removed]",
      "text/plain": [
       "<Figure size 432x288 with 1 Axes>"
      ]
     },
     "metadata": {},
     "output_type": "display_data"
    }
   ],
   "source": [
    "\n",
    "plt.style.use('fivethirtyeight')\n",
    "fig, ax = plt.subplots()\n",
    "top.plot.bar(color=['gold', 'silver', 'brown'], ax=ax, stacked=True)\n"
   ]
  },
  {
   "cell_type": "code",
   "execution_count": 68,
   "metadata": {},
   "outputs": [
    {
     "name": "stderr",
     "output_type": "stream",
     "text": [
      "<ipython-input-68-6360d1dce1b4>:1: MatplotlibDeprecationWarning: The seaborn styles shipped by Matplotlib are deprecated since 3.6, as they no longer correspond to the styles shipped by seaborn. However, they will remain available as 'seaborn-v0_8-<style>'. Alternatively, directly use the seaborn API instead.\n",
      "  plt.style.use('seaborn-pastel')\n"
     ]
    },
    {
     "data": {
      "text/plain": [
       "<Axes: xlabel='nationality'>"
      ]
     },
     "execution_count": 68,
     "metadata": {},
     "output_type": "execute_result"
    },
    {
     "data": {
      "image/png": "[encoded data removed]",
      "text/plain": [
       "<Figure size 432x288 with 1 Axes>"
      ]
     },
     "metadata": {},
     "output_type": "display_data"
    }
   ],
   "source": [
    "plt.style.use('seaborn-pastel')\n",
    "fig, ax = plt.subplots()\n",
    "top.plot.bar(color=['gold', 'silver', 'brown'], ax=ax, stacked=True)"
   ]
  },
  {
   "cell_type": "code",
   "execution_count": 69,
   "metadata": {},
   "outputs": [
    {
     "data": {
      "text/html": [
       "<div>\n",
       "<style scoped>\n",
       "    .dataframe tbody tr th:only-of-type {\n",
       "        vertical-align: middle;\n",
       "    }\n",
       "\n",
       "    .dataframe tbody tr th {\n",
       "        vertical-align: top;\n",
       "    }\n",
       "\n",
       "    .dataframe thead th {\n",
       "        text-align: right;\n",
       "    }\n",
       "</style>\n",
       "<table border=\"1\" class=\"dataframe\">\n",
       "  <thead>\n",
       "    <tr style=\"text-align: right;\">\n",
       "      <th>Product</th>\n",
       "      <th>a</th>\n",
       "      <th>b</th>\n",
       "      <th>c</th>\n",
       "    </tr>\n",
       "    <tr>\n",
       "      <th>Month</th>\n",
       "      <th></th>\n",
       "      <th></th>\n",
       "      <th></th>\n",
       "    </tr>\n",
       "  </thead>\n",
       "  <tbody>\n",
       "    <tr>\n",
       "      <th>1</th>\n",
       "      <td>7260.0</td>\n",
       "      <td>9258.0</td>\n",
       "      <td>1740.0</td>\n",
       "    </tr>\n",
       "    <tr>\n",
       "      <th>2</th>\n",
       "      <td>6534.0</td>\n",
       "      <td>NaN</td>\n",
       "      <td>5000.0</td>\n",
       "    </tr>\n",
       "    <tr>\n",
       "      <th>3</th>\n",
       "      <td>7260.0</td>\n",
       "      <td>NaN</td>\n",
       "      <td>2117.0</td>\n",
       "    </tr>\n",
       "    <tr>\n",
       "      <th>4</th>\n",
       "      <td>11616.0</td>\n",
       "      <td>13221.0</td>\n",
       "      <td>5440.0</td>\n",
       "    </tr>\n",
       "    <tr>\n",
       "      <th>5</th>\n",
       "      <td>7119.0</td>\n",
       "      <td>NaN</td>\n",
       "      <td>2990.0</td>\n",
       "    </tr>\n",
       "  </tbody>\n",
       "</table>\n",
       "</div>"
      ],
      "text/plain": [
       "Product        a        b       c\n",
       "Month                            \n",
       "1         7260.0   9258.0  1740.0\n",
       "2         6534.0      NaN  5000.0\n",
       "3         7260.0      NaN  2117.0\n",
       "4        11616.0  13221.0  5440.0\n",
       "5         7119.0      NaN  2990.0"
      ]
     },
     "execution_count": 69,
     "metadata": {},
     "output_type": "execute_result"
    }
   ],
   "source": [
    "df = pd.read_csv('./data/advanced/sales.csv', parse_dates=['Date'])\n",
    "df['Month'] = df['Date'].dt.month\n",
    "sales = df.groupby(['Month','Product'])['Amount'].sum().unstack()\n",
    "sales.head()"
   ]
  },
  {
   "cell_type": "code",
   "execution_count": 71,
   "metadata": {},
   "outputs": [
    {
     "data": {
      "image/png": "[encoded data removed]",
      "text/plain": [
       "<Figure size 432x216 with 1 Axes>"
      ]
     },
     "metadata": {},
     "output_type": "display_data"
    }
   ],
   "source": [
    "with plt.style.context('seaborn-dark'):\n",
    "    fig, ax = plt.subplots()\n",
    "    # sales.plot(ax=ax, figsize=(6,3), style={'a':':s', 'b': '--v', 'c':'-.o'})\n",
    "    sales.fillna(method='ffill').plot(ax=ax, figsize=(6,3), style={'a':':s', 'b': '--v', 'c':'-.o'})\n"
   ]
  },
  {
   "cell_type": "code",
   "execution_count": 78,
   "metadata": {},
   "outputs": [
    {
     "data": {
      "image/png": "[encoded data removed]",
      "text/plain": [
       "<Figure size 432x216 with 1 Axes>"
      ]
     },
     "metadata": {},
     "output_type": "display_data"
    }
   ],
   "source": [
    "styles={'a':':s', 'b': '--v', 'c':'-.o'}\n",
    "with plt.style.context('seaborn-dark'):\n",
    "    fig, ax = plt.subplots(figsize=(6,3),)\n",
    "    for column in styles:\n",
    "        sales[column].dropna().plot(ax=ax,  style=styles)\n",
    "\n",
    "fig.suptitle('Sales 2017', fontweight='bold')\n",
    "ax.set_title('Monthly sales for products a, b and c', fontstyle='italic', fontsize='10')\n",
    "ax.set_ylabel('Sales (EUR)')\n",
    "ax.grid(True)\n",
    "fig.tight_layout()"
   ]
  },
  {
   "cell_type": "markdown",
   "metadata": {},
   "source": [
    "## Scatter Plots"
   ]
  },
  {
   "cell_type": "code",
   "execution_count": 79,
   "metadata": {},
   "outputs": [
    {
     "data": {
      "text/html": [
       "<div>\n",
       "<style scoped>\n",
       "    .dataframe tbody tr th:only-of-type {\n",
       "        vertical-align: middle;\n",
       "    }\n",
       "\n",
       "    .dataframe tbody tr th {\n",
       "        vertical-align: top;\n",
       "    }\n",
       "\n",
       "    .dataframe thead th {\n",
       "        text-align: right;\n",
       "    }\n",
       "</style>\n",
       "<table border=\"1\" class=\"dataframe\">\n",
       "  <thead>\n",
       "    <tr style=\"text-align: right;\">\n",
       "      <th></th>\n",
       "      <th>id</th>\n",
       "      <th>nationality</th>\n",
       "      <th>sex</th>\n",
       "      <th>date_of_birth</th>\n",
       "      <th>height</th>\n",
       "      <th>weight</th>\n",
       "      <th>sport</th>\n",
       "      <th>gold</th>\n",
       "      <th>silver</th>\n",
       "      <th>bronze</th>\n",
       "    </tr>\n",
       "  </thead>\n",
       "  <tbody>\n",
       "    <tr>\n",
       "      <th>0</th>\n",
       "      <td>736041664</td>\n",
       "      <td>ESP</td>\n",
       "      <td>male</td>\n",
       "      <td>1969-10-17</td>\n",
       "      <td>1.72</td>\n",
       "      <td>64.0</td>\n",
       "      <td>athletics</td>\n",
       "      <td>0</td>\n",
       "      <td>0</td>\n",
       "      <td>0</td>\n",
       "    </tr>\n",
       "    <tr>\n",
       "      <th>1</th>\n",
       "      <td>532037425</td>\n",
       "      <td>KOR</td>\n",
       "      <td>female</td>\n",
       "      <td>1986-09-23</td>\n",
       "      <td>1.68</td>\n",
       "      <td>56.0</td>\n",
       "      <td>fencing</td>\n",
       "      <td>0</td>\n",
       "      <td>0</td>\n",
       "      <td>0</td>\n",
       "    </tr>\n",
       "    <tr>\n",
       "      <th>2</th>\n",
       "      <td>435962603</td>\n",
       "      <td>CAN</td>\n",
       "      <td>male</td>\n",
       "      <td>1992-05-27</td>\n",
       "      <td>1.98</td>\n",
       "      <td>79.0</td>\n",
       "      <td>athletics</td>\n",
       "      <td>0</td>\n",
       "      <td>0</td>\n",
       "      <td>1</td>\n",
       "    </tr>\n",
       "    <tr>\n",
       "      <th>3</th>\n",
       "      <td>521041435</td>\n",
       "      <td>MDA</td>\n",
       "      <td>male</td>\n",
       "      <td>1991-01-02</td>\n",
       "      <td>1.83</td>\n",
       "      <td>80.0</td>\n",
       "      <td>taekwondo</td>\n",
       "      <td>0</td>\n",
       "      <td>0</td>\n",
       "      <td>0</td>\n",
       "    </tr>\n",
       "    <tr>\n",
       "      <th>4</th>\n",
       "      <td>33922579</td>\n",
       "      <td>NZL</td>\n",
       "      <td>male</td>\n",
       "      <td>1990-11-26</td>\n",
       "      <td>1.81</td>\n",
       "      <td>71.0</td>\n",
       "      <td>cycling</td>\n",
       "      <td>0</td>\n",
       "      <td>0</td>\n",
       "      <td>0</td>\n",
       "    </tr>\n",
       "  </tbody>\n",
       "</table>\n",
       "</div>"
      ],
      "text/plain": [
       "          id nationality     sex date_of_birth  height  weight      sport  \\\n",
       "0  736041664         ESP    male    1969-10-17    1.72    64.0  athletics   \n",
       "1  532037425         KOR  female    1986-09-23    1.68    56.0    fencing   \n",
       "2  435962603         CAN    male    1992-05-27    1.98    79.0  athletics   \n",
       "3  521041435         MDA    male    1991-01-02    1.83    80.0  taekwondo   \n",
       "4   33922579         NZL    male    1990-11-26    1.81    71.0    cycling   \n",
       "\n",
       "   gold  silver  bronze  \n",
       "0     0       0       0  \n",
       "1     0       0       0  \n",
       "2     0       0       1  \n",
       "3     0       0       0  \n",
       "4     0       0       0  "
      ]
     },
     "execution_count": 79,
     "metadata": {},
     "output_type": "execute_result"
    }
   ],
   "source": [
    "df = pd.read_csv('./data/advanced/athletes.csv', parse_dates=['date_of_birth'])\n",
    "df.head()"
   ]
  },
  {
   "cell_type": "code",
   "execution_count": 80,
   "metadata": {},
   "outputs": [
    {
     "data": {
      "text/plain": [
       "0        1969\n",
       "1        1986\n",
       "2        1992\n",
       "3        1991\n",
       "4        1990\n",
       "         ... \n",
       "11533    1995\n",
       "11534    1986\n",
       "11535    1991\n",
       "11536    1989\n",
       "11537    1992\n",
       "Name: date_of_birth, Length: 11538, dtype: int32"
      ]
     },
     "execution_count": 80,
     "metadata": {},
     "output_type": "execute_result"
    }
   ],
   "source": [
    "df['date_of_birth'].dt.year"
   ]
  },
  {
   "cell_type": "code",
   "execution_count": 82,
   "metadata": {},
   "outputs": [
    {
     "data": {
      "text/plain": [
       "0       1969-10-17\n",
       "1       1986-09-23\n",
       "2       1992-05-27\n",
       "3       1991-01-02\n",
       "4       1990-11-26\n",
       "           ...    \n",
       "11533   1995-08-10\n",
       "11534   1986-12-19\n",
       "11535   1991-05-14\n",
       "11536   1989-04-05\n",
       "11537   1992-01-06\n",
       "Name: date_of_birth, Length: 11538, dtype: datetime64[ns]"
      ]
     },
     "execution_count": 82,
     "metadata": {},
     "output_type": "execute_result"
    }
   ],
   "source": [
    "df['date_of_birth']"
   ]
  },
  {
   "cell_type": "code",
   "execution_count": 85,
   "metadata": {},
   "outputs": [
    {
     "name": "stdout",
     "output_type": "stream",
     "text": [
      "value: <pandas.core.indexes.accessors.DatetimeProperties object at 0x7fb9a01a91c0>\n",
      "type: pandas.core.indexes.accessors.DatetimeProperties\n",
      "parents: pandas.core.indexes.accessors.Properties, pandas.core.accessor.PandasDelegate, pandas.core.base.PandasObject, pandas.core.accessor.DirNamesMixin, pandas.core.base.NoNewAttributesMixin\n",
      "\n",
      "Public attributes:\n",
      "  date: pandas.core.series.Series = 0        1969-10-17…\n",
      "  day: pandas.core.series.Series = 0        17…\n",
      "  day_of_week: pandas.core.series.Series = 0        4…\n",
      "  day_of_year: pandas.core.series.Series = 0        290…\n",
      "  dayofweek: pandas.core.series.Series = 0        4…\n",
      "  dayofyear: pandas.core.series.Series = 0        290…\n",
      "  days_in_month: pandas.core.series.Series = 0        31…\n",
      "  daysinmonth: pandas.core.series.Series = 0        31…\n",
      "  freq: NoneType = None\n",
      "  hour: pandas.core.series.Series = 0        0…\n",
      "  is_leap_year: pandas.core.series.Series = 0        False…\n",
      "  is_month_end: pandas.core.series.Series = 0        False…\n",
      "  is_month_start: pandas.core.series.Series = 0        False…\n",
      "  is_quarter_end: pandas.core.series.Series = 0        False…\n",
      "  is_quarter_start: pandas.core.series.Series = 0        False…\n",
      "  is_year_end: pandas.core.series.Series = 0        False…\n",
      "  is_year_start: pandas.core.series.Series = 0        False…\n",
      "  microsecond: pandas.core.series.Series = 0        0…\n",
      "  minute: pandas.core.series.Series = 0        0…\n",
      "  month: pandas.core.series.Series = 0        10…\n",
      "  nanosecond: pandas.core.series.Series = 0        0…\n",
      "  quarter: pandas.core.series.Series = 0        4…\n",
      "  second: pandas.core.series.Series = 0        0…\n",
      "  time: pandas.core.series.Series = 0        00:00:00…\n",
      "  timetz: pandas.core.series.Series = 0        00:00:00…\n",
      "  tz: NoneType = None\n",
      "  unit: str = 'ns'\n",
      "  weekday: pandas.core.series.Series = 0        4…\n",
      "  year: pandas.core.series.Series = 0        1969…\n",
      "\n",
      "  def as_unit(*args, **kwargs)\n",
      "  def ceil(*args, **kwargs) # Perform ceil operation on the data to the specified `freq`.…\n",
      "  def day_name(*args, **kwargs) # Return the day names with specified locale.…\n",
      "  def floor(*args, **kwargs) # Perform floor operation on the data to the specified `freq`.…\n",
      "  def isocalendar() -> 'DataFrame' # Calculate year, week, and day according to the ISO 8601 standard.…\n",
      "  def month_name(*args, **kwargs) # Return the month names with specified locale.…\n",
      "  def normalize(*args, **kwargs) # Convert times to midnight.…\n",
      "  def round(*args, **kwargs) # Perform round operation on the data to the specified `freq`.…\n",
      "  def strftime(*args, **kwargs) # Convert to Index using specified date_format.…\n",
      "  def to_period(*args, **kwargs) # Cast to PeriodArray/Index at a particular frequency.…\n",
      "  def to_pydatetime() -> 'np.ndarray' # Return the data as an array of :class:`datetime.datetime` objects.…\n",
      "  def tz_convert(*args, **kwargs) # Convert tz-aware Datetime Array/Index from one time zone to another.…\n",
      "  def tz_localize(*args, **kwargs) # Localize tz-naive Datetime Array/Index to tz-aware Datetime Array/Index.…\n",
      "\n",
      "Private attributes:\n",
      "  __frozen: bool = True\n",
      "  _accessors: set = set()\n",
      "  _hidden_attrs: frozenset = frozenset({'orig', 'name'})\n",
      "  _parent: pandas.core.series.Series = 0       1969-10-17…\n",
      "\n",
      "  def _add_delegate_accessors(delegate, accessors: 'list[str]', typ: 'str', overwrite: 'bool' = False, accessor_mapping: 'Callable[[str], str]' = <function PandasDelegate.<lambda> at 0x7fb9f063db80>, raise_on_missing: 'bool' = True) -> 'None' # Add accessors to cls from the delegate class.…\n",
      "  class _constructor(data: 'Series', orig) -> 'None' # Accessor object for datetimelike properties of the Series values.…\n",
      "  def _delegate_method(name, *args, **kwargs)\n",
      "  def _delegate_property_get(name)\n",
      "  def _delegate_property_set(name, value, *args, **kwargs)\n",
      "  def _dir_additions() -> 'set[str]' # Add additional __dir__ for this object.\n",
      "  def _dir_deletions() -> 'set[str]' # Delete unwanted __dir__ for this object.\n",
      "  def _freeze() -> 'None' # Prevents setting additional attributes.\n",
      "  def _get_values()\n",
      "  def _reset_cache(key: 'str | None' = None) -> 'None' # Reset cached properties. If ``key`` is passed, only clears that key.\n"
     ]
    }
   ],
   "source": [
    "wat(df['date_of_birth'].dt)"
   ]
  },
  {
   "cell_type": "code",
   "execution_count": 86,
   "metadata": {},
   "outputs": [],
   "source": [
    "f = df[df['sex'] == 'female']\n",
    "m = df[df['sex'] == 'male']\n",
    "\n",
    "tennis_f = f[f['sport'] == 'tennis']\n",
    "tennis_m = m[m['sport'] == 'tennis']\n",
    "\n",
    "\n",
    "# 体操\n",
    "\n",
    "gymnast_f = f[f['sport'] == 'gymnastics']\n",
    "gymnast_m = m[m['sport'] == 'gymnastics']\n"
   ]
  },
  {
   "cell_type": "code",
   "execution_count": 87,
   "metadata": {},
   "outputs": [
    {
     "data": {
      "text/plain": [
       "<Axes: xlabel='weight', ylabel='height'>"
      ]
     },
     "execution_count": 87,
     "metadata": {},
     "output_type": "execute_result"
    },
    {
     "data": {
      "image/png": "[encoded data removed]",
      "text/plain": [
       "<Figure size 432x288 with 1 Axes>"
      ]
     },
     "metadata": {},
     "output_type": "display_data"
    }
   ],
   "source": [
    "gymnast_f.plot.scatter(x='weight', y='height')"
   ]
  },
  {
   "cell_type": "code",
   "execution_count": 89,
   "metadata": {},
   "outputs": [
    {
     "data": {
      "image/png": "[encoded data removed]",
      "text/plain": [
       "<Figure size 432x288 with 1 Axes>"
      ]
     },
     "metadata": {},
     "output_type": "display_data"
    }
   ],
   "source": [
    "fg, ax = plt.subplots()\n",
    "plots = [\n",
    "    (tennis_f, 'red', 'Tennis, women'),\n",
    "    (tennis_m, 'blue', 'Tennis, men'),\n",
    "    (gymnast_f, 'orange', 'Gymnastics, women'),\n",
    "    (gymnast_m, 'green', 'Gymnastics, women'),\n",
    "]\n",
    "for df, color, label in plots:\n",
    "    df.plot.scatter(x='weight', y='height', color=color, ax=ax, label=label, alpha=0.25)\n",
    "\n",
    "ax.set_xlabel('Weight (Kg)')\n",
    "ax.set_ylabel('Height (m)')\n",
    "ax.set_title('Heights and Weights of Olympic Athletes');"
   ]
  },
  {
   "cell_type": "code",
   "execution_count": 93,
   "metadata": {},
   "outputs": [
    {
     "data": {
      "image/png": "[encoded data removed]",
      "text/plain": [
       "<Figure size 432x288 with 2 Axes>"
      ]
     },
     "metadata": {},
     "output_type": "display_data"
    }
   ],
   "source": [
    "fig, ax = plt.subplots()\n",
    "gymnast_m.plot.scatter(ax=ax, x='height', y='weight', c='gold', colormap='plasma')\n",
    "fig.tight_layout()"
   ]
  },
  {
   "cell_type": "markdown",
   "metadata": {},
   "source": [
    "https://matplotlib.org/2.0.2/examples/lines_bars_and_markers/line_styles_reference.html\n",
    "\n",
    "https://matplotlib.org/stable/api/markers_api.html\n"
   ]
  },
  {
   "cell_type": "markdown",
   "metadata": {},
   "source": [
    "https://matplotlib.org/stable/users/explain/customizing.html"
   ]
  },
  {
   "cell_type": "markdown",
   "metadata": {},
   "source": [
    "## Axes: Ticks, Ranges, Legends"
   ]
  },
  {
   "cell_type": "markdown",
   "metadata": {},
   "source": [
    "### Main properties of an axis:\n",
    "\n",
    "+ Limits: value where the axis starts and ends\n",
    "+ Ticks: positions where the axis is divided\n",
    "+ Tick Labels: text shown at ticks"
   ]
  },
  {
   "cell_type": "code",
   "execution_count": 94,
   "metadata": {},
   "outputs": [
    {
     "data": {
      "text/html": [
       "<div>\n",
       "<style scoped>\n",
       "    .dataframe tbody tr th:only-of-type {\n",
       "        vertical-align: middle;\n",
       "    }\n",
       "\n",
       "    .dataframe tbody tr th {\n",
       "        vertical-align: top;\n",
       "    }\n",
       "\n",
       "    .dataframe thead th {\n",
       "        text-align: right;\n",
       "    }\n",
       "</style>\n",
       "<table border=\"1\" class=\"dataframe\">\n",
       "  <thead>\n",
       "    <tr style=\"text-align: right;\">\n",
       "      <th>Product</th>\n",
       "      <th>a</th>\n",
       "      <th>b</th>\n",
       "      <th>c</th>\n",
       "    </tr>\n",
       "    <tr>\n",
       "      <th>Month</th>\n",
       "      <th></th>\n",
       "      <th></th>\n",
       "      <th></th>\n",
       "    </tr>\n",
       "  </thead>\n",
       "  <tbody>\n",
       "    <tr>\n",
       "      <th>1</th>\n",
       "      <td>7260.0</td>\n",
       "      <td>9258.0</td>\n",
       "      <td>1740.0</td>\n",
       "    </tr>\n",
       "    <tr>\n",
       "      <th>2</th>\n",
       "      <td>6534.0</td>\n",
       "      <td>NaN</td>\n",
       "      <td>5000.0</td>\n",
       "    </tr>\n",
       "    <tr>\n",
       "      <th>3</th>\n",
       "      <td>7260.0</td>\n",
       "      <td>NaN</td>\n",
       "      <td>2117.0</td>\n",
       "    </tr>\n",
       "    <tr>\n",
       "      <th>4</th>\n",
       "      <td>11616.0</td>\n",
       "      <td>13221.0</td>\n",
       "      <td>5440.0</td>\n",
       "    </tr>\n",
       "    <tr>\n",
       "      <th>5</th>\n",
       "      <td>7119.0</td>\n",
       "      <td>NaN</td>\n",
       "      <td>2990.0</td>\n",
       "    </tr>\n",
       "  </tbody>\n",
       "</table>\n",
       "</div>"
      ],
      "text/plain": [
       "Product        a        b       c\n",
       "Month                            \n",
       "1         7260.0   9258.0  1740.0\n",
       "2         6534.0      NaN  5000.0\n",
       "3         7260.0      NaN  2117.0\n",
       "4        11616.0  13221.0  5440.0\n",
       "5         7119.0      NaN  2990.0"
      ]
     },
     "execution_count": 94,
     "metadata": {},
     "output_type": "execute_result"
    }
   ],
   "source": [
    "df = pd.read_csv('./data/advanced/sales.csv', parse_dates=['Date'])\n",
    "df['Month'] = df['Date'].dt.month\n",
    "sales = df.groupby(['Month','Product'])['Amount'].sum().unstack()\n",
    "sales.head()"
   ]
  },
  {
   "cell_type": "code",
   "execution_count": 112,
   "metadata": {},
   "outputs": [
    {
     "data": {
      "image/png": "[encoded data removed]",
      "text/plain": [
       "<Figure size 432x216 with 1 Axes>"
      ]
     },
     "metadata": {},
     "output_type": "display_data"
    }
   ],
   "source": [
    "styles = {'a':':s', 'b': '--v', 'c':'-.o'}\n",
    "with plt.style.context('ggplot'):\n",
    "    fig, ax = plt.subplots(figsize=(6,3))\n",
    "    for column in styles:\n",
    "        sales[column].dropna().plot(ax=ax,  style=styles, grid=True, ylim=(0, 20000), legend=True, label='Product ' + column)\n",
    "\n",
    "ax.set_title('Monthly sales')\n",
    "ax.set_ylabel('Sales (EUR)')\n",
    "\n",
    "\n",
    "ax.set_xticks(range(1,13))\n",
    "\n",
    "import calendar\n",
    "ax.set_xticklabels(calendar.month_name[1:13], rotation=30, ha='right');\n",
    "\n",
    "def make_yticklabel(tick_value, pos):\n",
    "    return f'{tick_value / 1000 }K'\n",
    "\n",
    "from matplotlib.ticker import FuncFormatter\n",
    "ax.yaxis.set_major_formatter(FuncFormatter(make_yticklabel))\n",
    "\n",
    "\n",
    "\n",
    "ax.legend(labels=['Apples', 'Pears', 'Oranges'], loc='upper left', markerfirst=False)\n",
    "fig.tight_layout()"
   ]
  },
  {
   "cell_type": "markdown",
   "metadata": {},
   "source": [
    "https://matplotlib.org/stable/api/ticker_api.html"
   ]
  },
  {
   "cell_type": "markdown",
   "metadata": {},
   "source": [
    "https://matplotlib.org/stable/api/_as_gen/matplotlib.pyplot.legend.html"
   ]
  },
  {
   "cell_type": "code",
   "execution_count": 4,
   "metadata": {
    "tags": []
   },
   "outputs": [
    {
     "name": "stdout",
     "output_type": "stream",
     "text": [
      "Looking in indexes: https://pypi.tuna.tsinghua.edu.cn/simple\n",
      "Requirement already satisfied: ipywidgets in /Users/yaojack/anaconda3/envs/ml/lib/python3.8/site-packages (8.1.3)\n",
      "Requirement already satisfied: comm>=0.1.3 in /Users/yaojack/anaconda3/envs/ml/lib/python3.8/site-packages (from ipywidgets) (0.2.2)\n",
      "Requirement already satisfied: traitlets>=4.3.1 in /Users/yaojack/anaconda3/envs/ml/lib/python3.8/site-packages (from ipywidgets) (5.0.5)\n",
      "Requirement already satisfied: ipython>=6.1.0 in /Users/yaojack/anaconda3/envs/ml/lib/python3.8/site-packages (from ipywidgets) (7.19.0)\n",
      "Requirement already satisfied: widgetsnbextension~=4.0.11 in /Users/yaojack/anaconda3/envs/ml/lib/python3.8/site-packages (from ipywidgets) (4.0.11)\n",
      "Requirement already satisfied: jupyterlab-widgets~=3.0.11 in /Users/yaojack/anaconda3/envs/ml/lib/python3.8/site-packages (from ipywidgets) (3.0.11)\n",
      "Requirement already satisfied: ipython-genutils in /Users/yaojack/anaconda3/envs/ml/lib/python3.8/site-packages (from traitlets>=4.3.1->ipywidgets) (0.2.0)\n",
      "Requirement already satisfied: setuptools>=18.5 in /Users/yaojack/anaconda3/envs/ml/lib/python3.8/site-packages (from ipython>=6.1.0->ipywidgets) (50.3.1.post20201107)\n",
      "Requirement already satisfied: pygments in /Users/yaojack/anaconda3/envs/ml/lib/python3.8/site-packages (from ipython>=6.1.0->ipywidgets) (2.7.2)\n",
      "Requirement already satisfied: jedi>=0.10 in /Users/yaojack/anaconda3/envs/ml/lib/python3.8/site-packages (from ipython>=6.1.0->ipywidgets) (0.17.1)\n",
      "Requirement already satisfied: pexpect>4.3; sys_platform != \"win32\" in /Users/yaojack/anaconda3/envs/ml/lib/python3.8/site-packages (from ipython>=6.1.0->ipywidgets) (4.8.0)\n",
      "Requirement already satisfied: decorator in /Users/yaojack/anaconda3/envs/ml/lib/python3.8/site-packages (from ipython>=6.1.0->ipywidgets) (4.4.2)\n",
      "Requirement already satisfied: backcall in /Users/yaojack/anaconda3/envs/ml/lib/python3.8/site-packages (from ipython>=6.1.0->ipywidgets) (0.2.0)\n",
      "Requirement already satisfied: prompt-toolkit!=3.0.0,!=3.0.1,<3.1.0,>=2.0.0 in /Users/yaojack/anaconda3/envs/ml/lib/python3.8/site-packages (from ipython>=6.1.0->ipywidgets) (3.0.8)\n",
      "Requirement already satisfied: pickleshare in /Users/yaojack/anaconda3/envs/ml/lib/python3.8/site-packages (from ipython>=6.1.0->ipywidgets) (0.7.5)\n",
      "Requirement already satisfied: appnope; sys_platform == \"darwin\" in /Users/yaojack/anaconda3/envs/ml/lib/python3.8/site-packages (from ipython>=6.1.0->ipywidgets) (0.1.0)\n",
      "Requirement already satisfied: parso<0.8.0,>=0.7.0 in /Users/yaojack/anaconda3/envs/ml/lib/python3.8/site-packages (from jedi>=0.10->ipython>=6.1.0->ipywidgets) (0.7.0)\n",
      "Requirement already satisfied: ptyprocess>=0.5 in /Users/yaojack/anaconda3/envs/ml/lib/python3.8/site-packages (from pexpect>4.3; sys_platform != \"win32\"->ipython>=6.1.0->ipywidgets) (0.6.0)\n",
      "Requirement already satisfied: wcwidth in /Users/yaojack/anaconda3/envs/ml/lib/python3.8/site-packages (from prompt-toolkit!=3.0.0,!=3.0.1,<3.1.0,>=2.0.0->ipython>=6.1.0->ipywidgets) (0.2.13)\n",
      "Note: you may need to restart the kernel to use updated packages.\n"
     ]
    }
   ],
   "source": [
    "%pip install ipywidgets"
   ]
  },
  {
   "cell_type": "code",
   "execution_count": 7,
   "metadata": {
    "tags": []
   },
   "outputs": [
    {
     "name": "stdout",
     "output_type": "stream",
     "text": [
      "Looking in indexes: https://pypi.tuna.tsinghua.edu.cn/simple\n",
      "Requirement already satisfied: ipywidgets in /Users/yaojack/anaconda3/envs/ml/lib/python3.8/site-packages (8.1.3)\n",
      "Requirement already satisfied: jupyterlab-widgets~=3.0.11 in /Users/yaojack/anaconda3/envs/ml/lib/python3.8/site-packages (from ipywidgets) (3.0.11)\n",
      "Requirement already satisfied: comm>=0.1.3 in /Users/yaojack/anaconda3/envs/ml/lib/python3.8/site-packages (from ipywidgets) (0.2.2)\n",
      "Requirement already satisfied: traitlets>=4.3.1 in /Users/yaojack/anaconda3/envs/ml/lib/python3.8/site-packages (from ipywidgets) (5.0.5)\n",
      "Requirement already satisfied: widgetsnbextension~=4.0.11 in /Users/yaojack/anaconda3/envs/ml/lib/python3.8/site-packages (from ipywidgets) (4.0.11)\n",
      "Requirement already satisfied: ipython>=6.1.0 in /Users/yaojack/anaconda3/envs/ml/lib/python3.8/site-packages (from ipywidgets) (7.19.0)\n",
      "Requirement already satisfied: ipython-genutils in /Users/yaojack/anaconda3/envs/ml/lib/python3.8/site-packages (from traitlets>=4.3.1->ipywidgets) (0.2.0)\n",
      "Requirement already satisfied: pickleshare in /Users/yaojack/anaconda3/envs/ml/lib/python3.8/site-packages (from ipython>=6.1.0->ipywidgets) (0.7.5)\n",
      "Requirement already satisfied: jedi>=0.10 in /Users/yaojack/anaconda3/envs/ml/lib/python3.8/site-packages (from ipython>=6.1.0->ipywidgets) (0.17.1)\n",
      "Requirement already satisfied: appnope; sys_platform == \"darwin\" in /Users/yaojack/anaconda3/envs/ml/lib/python3.8/site-packages (from ipython>=6.1.0->ipywidgets) (0.1.0)\n",
      "Requirement already satisfied: pexpect>4.3; sys_platform != \"win32\" in /Users/yaojack/anaconda3/envs/ml/lib/python3.8/site-packages (from ipython>=6.1.0->ipywidgets) (4.8.0)\n",
      "Requirement already satisfied: backcall in /Users/yaojack/anaconda3/envs/ml/lib/python3.8/site-packages (from ipython>=6.1.0->ipywidgets) (0.2.0)\n",
      "Requirement already satisfied: setuptools>=18.5 in /Users/yaojack/anaconda3/envs/ml/lib/python3.8/site-packages (from ipython>=6.1.0->ipywidgets) (50.3.1.post20201107)\n",
      "Requirement already satisfied: decorator in /Users/yaojack/anaconda3/envs/ml/lib/python3.8/site-packages (from ipython>=6.1.0->ipywidgets) (4.4.2)\n",
      "Requirement already satisfied: prompt-toolkit!=3.0.0,!=3.0.1,<3.1.0,>=2.0.0 in /Users/yaojack/anaconda3/envs/ml/lib/python3.8/site-packages (from ipython>=6.1.0->ipywidgets) (3.0.8)\n",
      "Requirement already satisfied: pygments in /Users/yaojack/anaconda3/envs/ml/lib/python3.8/site-packages (from ipython>=6.1.0->ipywidgets) (2.7.2)\n",
      "Requirement already satisfied: parso<0.8.0,>=0.7.0 in /Users/yaojack/anaconda3/envs/ml/lib/python3.8/site-packages (from jedi>=0.10->ipython>=6.1.0->ipywidgets) (0.7.0)\n",
      "Requirement already satisfied: ptyprocess>=0.5 in /Users/yaojack/anaconda3/envs/ml/lib/python3.8/site-packages (from pexpect>4.3; sys_platform != \"win32\"->ipython>=6.1.0->ipywidgets) (0.6.0)\n",
      "Requirement already satisfied: wcwidth in /Users/yaojack/anaconda3/envs/ml/lib/python3.8/site-packages (from prompt-toolkit!=3.0.0,!=3.0.1,<3.1.0,>=2.0.0->ipython>=6.1.0->ipywidgets) (0.2.13)\n",
      "Note: you may need to restart the kernel to use updated packages.\n"
     ]
    }
   ],
   "source": [
    "%pip install ipywidgets\n",
    "jupyter nbextension enable --py widgetsnbextension"
   ]
  },
  {
   "cell_type": "code",
   "execution_count": 4,
   "metadata": {
    "tags": []
   },
   "outputs": [],
   "source": [
    "from ipywidgets import interact\n",
    "import ipywidgets as widgets\n",
    "\n",
    "\n"
   ]
  },
  {
   "cell_type": "code",
   "execution_count": 15,
   "metadata": {
    "tags": []
   },
   "outputs": [
    {
     "data": {
      "application/vnd.jupyter.widget-view+json": {
       "model_id": "96d778800133425494effb998a66db24",
       "version_major": 2,
       "version_minor": 0
      },
      "text/plain": [
       "interactive(children=(IntSlider(value=1, description='x', max=5, min=-5), IntSlider(value=2, description='y', …"
      ]
     },
     "metadata": {},
     "output_type": "display_data"
    }
   ],
   "source": [
    "def f(x=1, y=2):\n",
    "    return str(x)*y\n",
    "interact(f, x=(-5, 5), y=(0, 10));"
   ]
  },
  {
   "cell_type": "code",
   "execution_count": 17,
   "metadata": {
    "tags": []
   },
   "outputs": [
    {
     "data": {
      "application/vnd.jupyter.widget-view+json": {
       "model_id": "2f0abc6ca5a045f5a8d2b404489f564a",
       "version_major": 2,
       "version_minor": 0
      },
      "text/plain": [
       "interactive(children=(Text(value='hey!', description='x'), FloatSlider(value=0.1, description='y', max=0.30000…"
      ]
     },
     "metadata": {},
     "output_type": "display_data"
    }
   ],
   "source": [
    "interact(f, x='hey!', y=(0.10));"
   ]
  },
  {
   "cell_type": "code",
   "execution_count": 16,
   "metadata": {
    "tags": []
   },
   "outputs": [
    {
     "data": {
      "application/vnd.jupyter.widget-view+json": {
       "model_id": "a7a99c4a1f964d42b0cd80c6ff2027eb",
       "version_major": 2,
       "version_minor": 0
      },
      "text/plain": [
       "interactive(children=(Dropdown(description='x', options=('john', 'mary', 'james'), value='john'), IntSlider(va…"
      ]
     },
     "metadata": {},
     "output_type": "display_data"
    }
   ],
   "source": [
    "interact(f, x=['john', 'mary', 'james'], y=(0,10));"
   ]
  },
  {
   "cell_type": "code",
   "execution_count": 22,
   "metadata": {
    "tags": []
   },
   "outputs": [
    {
     "data": {
      "application/vnd.jupyter.widget-view+json": {
       "model_id": "856356d8c4c34de1b4803d3f5a95957c",
       "version_major": 2,
       "version_minor": 0
      },
      "text/plain": [
       "interactive(children=(Dropdown(description='sport1', options=('aquatics', 'archery', 'athletics', 'badminton',…"
      ]
     },
     "metadata": {},
     "output_type": "display_data"
    }
   ],
   "source": [
    "df = pd.read_csv('./data/advanced/athletes.csv')\n",
    "def make_plot(sport1, gender1, sport2, gender2):\n",
    "    fig, ax = plt.subplots()\n",
    "    a = df[(df['sex'] == gender1) & (df['sport'] == sport1) ]\n",
    "    b = df[(df['sex'] == gender2) & (df['sport'] == sport2) ]\n",
    "    a.plot.scatter(ax=ax, x='weight', y='height', color='b', alpha=.25, label= f'{sport1}, {gender1}')\n",
    "    b.plot.scatter(ax=ax, x='weight', y='height', color='b', alpha=.25, label= f'{sport2}, {gender2}')\n",
    "\n",
    "all_sports = df['sport'].drop_duplicates().sort_values()\n",
    "\n",
    "interact(make_plot, \n",
    "         sport1=all_sports, \n",
    "         gender1=['male', 'female'],\n",
    "         sport2=all_sports, \n",
    "         gender2=['male', 'female'],\n",
    "         );"
   ]
  },
  {
   "cell_type": "code",
   "execution_count": 26,
   "metadata": {
    "tags": []
   },
   "outputs": [
    {
     "data": {
      "application/vnd.jupyter.widget-view+json": {
       "model_id": "aa8e7774beb84e94af4e48451ad03a31",
       "version_major": 2,
       "version_minor": 0
      },
      "text/plain": [
       "interactive(children=(IntSlider(value=5, continuous_update=False, description='n', max=10, min=5), Dropdown(de…"
      ]
     },
     "metadata": {},
     "output_type": "display_data"
    }
   ],
   "source": [
    "medals = df.groupby(['sport', 'nationality'])[['gold', 'silver', 'bronze']].sum()\n",
    "medals.sort_values(['gold'], ascending=False, inplace=True)\n",
    "def make_plot(n=10, sport='aquatics'):\n",
    "    fi, ax = plt.subplots(figsize=(n, 6))\n",
    "    top = medals.loc[sport].head(n)\n",
    "    top.plot.bar(color=['gold', 'silver', 'brown'], ax=ax, stacked=True, rot=45, title=f\"Top {n} contries in {sport}\")\n",
    "    ax.set_ylabel('medals')\n",
    "\n",
    "# interact(make_plot, n=(5,10), sport=all_sports);\n",
    "interact(make_plot, n=widgets.IntSlider(min=5,max=10, continuous_update=False), sport=all_sports);"
   ]
  },
  {
   "cell_type": "code",
   "execution_count": null,
   "metadata": {},
   "outputs": [],
   "source": []
  }
 ],
 "metadata": {
  "kernelspec": {
   "display_name": "ML",
   "language": "python",
   "name": "ml"
  },
  "language_info": {
   "codemirror_mode": {
    "name": "ipython",
    "version": 3
   },
   "file_extension": ".py",
   "mimetype": "text/x-python",
   "name": "python",
   "nbconvert_exporter": "python",
   "pygments_lexer": "ipython3",
   "version": "3.8.5"
  }
 },
 "nbformat": 4,
 "nbformat_minor": 4
}
